{
  "nbformat": 4,
  "nbformat_minor": 0,
  "metadata": {
    "colab": {
      "provenance": [],
      "authorship_tag": "ABX9TyPPHPQYqokWaI1vV+nFIXKV",
      "include_colab_link": true
    },
    "kernelspec": {
      "name": "python3",
      "display_name": "Python 3"
    },
    "language_info": {
      "name": "python"
    }
  },
  "cells": [
    {
      "cell_type": "markdown",
      "metadata": {
        "id": "view-in-github",
        "colab_type": "text"
      },
      "source": [
        "<a href=\"https://colab.research.google.com/github/Adamoni22/UMWF/blob/main/Case_3.ipynb\" target=\"_parent\"><img src=\"https://colab.research.google.com/assets/colab-badge.svg\" alt=\"Open In Colab\"/></a>"
      ]
    },
    {
      "cell_type": "code",
      "source": [
        "pip install backtesting"
      ],
      "metadata": {
        "colab": {
          "base_uri": "https://localhost:8080/"
        },
        "id": "dE0n7qEhey_U",
        "outputId": "27ac0876-66f3-4fde-9d06-35c7b89bdd87"
      },
      "execution_count": 25,
      "outputs": [
        {
          "output_type": "stream",
          "name": "stdout",
          "text": [
            "Requirement already satisfied: backtesting in /usr/local/lib/python3.10/dist-packages (0.3.3)\n",
            "Requirement already satisfied: numpy>=1.17.0 in /usr/local/lib/python3.10/dist-packages (from backtesting) (1.25.2)\n",
            "Requirement already satisfied: pandas!=0.25.0,>=0.25.0 in /usr/local/lib/python3.10/dist-packages (from backtesting) (2.0.3)\n",
            "Requirement already satisfied: bokeh>=1.4.0 in /usr/local/lib/python3.10/dist-packages (from backtesting) (3.3.4)\n",
            "Requirement already satisfied: Jinja2>=2.9 in /usr/local/lib/python3.10/dist-packages (from bokeh>=1.4.0->backtesting) (3.1.4)\n",
            "Requirement already satisfied: contourpy>=1 in /usr/local/lib/python3.10/dist-packages (from bokeh>=1.4.0->backtesting) (1.2.1)\n",
            "Requirement already satisfied: packaging>=16.8 in /usr/local/lib/python3.10/dist-packages (from bokeh>=1.4.0->backtesting) (24.0)\n",
            "Requirement already satisfied: pillow>=7.1.0 in /usr/local/lib/python3.10/dist-packages (from bokeh>=1.4.0->backtesting) (9.4.0)\n",
            "Requirement already satisfied: PyYAML>=3.10 in /usr/local/lib/python3.10/dist-packages (from bokeh>=1.4.0->backtesting) (6.0.1)\n",
            "Requirement already satisfied: tornado>=5.1 in /usr/local/lib/python3.10/dist-packages (from bokeh>=1.4.0->backtesting) (6.3.3)\n",
            "Requirement already satisfied: xyzservices>=2021.09.1 in /usr/local/lib/python3.10/dist-packages (from bokeh>=1.4.0->backtesting) (2024.4.0)\n",
            "Requirement already satisfied: python-dateutil>=2.8.2 in /usr/local/lib/python3.10/dist-packages (from pandas!=0.25.0,>=0.25.0->backtesting) (2.8.2)\n",
            "Requirement already satisfied: pytz>=2020.1 in /usr/local/lib/python3.10/dist-packages (from pandas!=0.25.0,>=0.25.0->backtesting) (2023.4)\n",
            "Requirement already satisfied: tzdata>=2022.1 in /usr/local/lib/python3.10/dist-packages (from pandas!=0.25.0,>=0.25.0->backtesting) (2024.1)\n",
            "Requirement already satisfied: MarkupSafe>=2.0 in /usr/local/lib/python3.10/dist-packages (from Jinja2>=2.9->bokeh>=1.4.0->backtesting) (2.1.5)\n",
            "Requirement already satisfied: six>=1.5 in /usr/local/lib/python3.10/dist-packages (from python-dateutil>=2.8.2->pandas!=0.25.0,>=0.25.0->backtesting) (1.16.0)\n"
          ]
        }
      ]
    },
    {
      "cell_type": "code",
      "source": [
        "import yfinance as yf\n",
        "from prophet import Prophet\n",
        "import pandas as pd\n",
        "from backtesting import Backtest, Strategy"
      ],
      "metadata": {
        "id": "ds8HCQVwyI27"
      },
      "execution_count": 34,
      "outputs": []
    },
    {
      "cell_type": "code",
      "source": [
        "#Pobieranie danych historycznych dla Microstoft\n",
        "data = yf.download(\"MSFT\", start=\"2024-01-01\", end=\"2024-06-05\")\n",
        "data.reset_index(inplace=True)"
      ],
      "metadata": {
        "colab": {
          "base_uri": "https://localhost:8080/"
        },
        "id": "quaqrxd3yP59",
        "outputId": "723bd454-d432-4ccf-8d4d-2a41fbbd3147"
      },
      "execution_count": 35,
      "outputs": [
        {
          "output_type": "stream",
          "name": "stderr",
          "text": [
            "\r[*********************100%%**********************]  1 of 1 completed\n"
          ]
        }
      ]
    },
    {
      "cell_type": "code",
      "source": [
        "#Tworzenie i dopasowanie modelu Prophet\n",
        "df = data[['Date', 'Close']]\n",
        "df.columns = ['ds', 'y']\n",
        "model = Prophet(daily_seasonality=False, yearly_seasonality=True, weekly_seasonality=True)\n",
        "model.fit(df)"
      ],
      "metadata": {
        "colab": {
          "base_uri": "https://localhost:8080/"
        },
        "id": "GJPvsfPRyRM8",
        "outputId": "03d4e7f7-8681-401b-a462-d89ab2fce133"
      },
      "execution_count": 36,
      "outputs": [
        {
          "output_type": "stream",
          "name": "stderr",
          "text": [
            "DEBUG:cmdstanpy:input tempfile: /tmp/tmp5dai6d3w/i8uwpxns.json\n",
            "DEBUG:cmdstanpy:input tempfile: /tmp/tmp5dai6d3w/qc6n9hy8.json\n",
            "DEBUG:cmdstanpy:idx 0\n",
            "DEBUG:cmdstanpy:running CmdStan, num_threads: None\n",
            "DEBUG:cmdstanpy:CmdStan args: ['/usr/local/lib/python3.10/dist-packages/prophet/stan_model/prophet_model.bin', 'random', 'seed=3071', 'data', 'file=/tmp/tmp5dai6d3w/i8uwpxns.json', 'init=/tmp/tmp5dai6d3w/qc6n9hy8.json', 'output', 'file=/tmp/tmp5dai6d3w/prophet_modelhymk2irv/prophet_model-20240610153859.csv', 'method=optimize', 'algorithm=lbfgs', 'iter=10000']\n",
            "15:38:59 - cmdstanpy - INFO - Chain [1] start processing\n",
            "INFO:cmdstanpy:Chain [1] start processing\n",
            "15:38:59 - cmdstanpy - INFO - Chain [1] done processing\n",
            "INFO:cmdstanpy:Chain [1] done processing\n"
          ]
        },
        {
          "output_type": "execute_result",
          "data": {
            "text/plain": [
              "<prophet.forecaster.Prophet at 0x780ca7bce350>"
            ]
          },
          "metadata": {},
          "execution_count": 36
        }
      ]
    },
    {
      "cell_type": "code",
      "source": [
        "#Prognozowanie przyszłych wartości\n",
        "future = model.make_future_dataframe(periods=60, freq='D')\n",
        "forecast = model.predict(future)\n",
        "forecast = forecast[['ds', 'yhat']]\n",
        "forecast.set_index('ds', inplace=True)"
      ],
      "metadata": {
        "id": "rq_2l39YyrIZ"
      },
      "execution_count": 37,
      "outputs": []
    },
    {
      "cell_type": "code",
      "source": [
        "bt_data = data.set_index('Date')\n",
        "bt_data = bt_data[['Open', 'High', 'Low', 'Close', 'Volume']]\n",
        "\n",
        "class ProphetStrategy(Strategy):\n",
        "    def init(self):\n",
        "        super().init()\n",
        "        self.forecast = self.I(lambda: forecast['yhat'].reindex(self.data.index, method='ffill'))\n",
        "\n",
        "    def next(self):\n",
        "        if self.data.Close[-1] > self.forecast[-1]:\n",
        "            self.buy()\n",
        "        elif self.data.Close[-1] < self.forecast[-1]:\n",
        "            self.sell()"
      ],
      "metadata": {
        "id": "PtyBnWuby7_K"
      },
      "execution_count": 45,
      "outputs": []
    },
    {
      "cell_type": "code",
      "source": [
        "# Backtesting strategii\n",
        "bt = Backtest(bt_data, ProphetStrategy, cash=10000)\n",
        "output = bt.run()\n",
        "bt.plot()\n",
        "\n",
        "print(output)"
      ],
      "metadata": {
        "colab": {
          "base_uri": "https://localhost:8080/",
          "height": 1000
        },
        "id": "OsZMfiG7zISZ",
        "outputId": "c184fd40-1a72-4d46-ba96-312f360227e7"
      },
      "execution_count": 46,
      "outputs": [
        {
          "output_type": "stream",
          "name": "stderr",
          "text": [
            "BokehDeprecationWarning: Passing lists of formats for DatetimeTickFormatter scales was deprecated in Bokeh 3.0. Configure a single string format for each scale\n",
            "/usr/local/lib/python3.10/dist-packages/backtesting/_plotting.py:250: UserWarning: DatetimeFormatter scales now only accept a single format. Using the first provided: '%d %b'\n",
            "  formatter=DatetimeTickFormatter(days=['%d %b', '%a %d'],\n",
            "BokehDeprecationWarning: Passing lists of formats for DatetimeTickFormatter scales was deprecated in Bokeh 3.0. Configure a single string format for each scale\n",
            "/usr/local/lib/python3.10/dist-packages/backtesting/_plotting.py:250: UserWarning: DatetimeFormatter scales now only accept a single format. Using the first provided: '%m/%Y'\n",
            "  formatter=DatetimeTickFormatter(days=['%d %b', '%a %d'],\n",
            "/usr/local/lib/python3.10/dist-packages/backtesting/_plotting.py:659: UserWarning: found multiple competing values for 'toolbar.active_drag' property; using the latest value\n",
            "  fig = gridplot(\n",
            "/usr/local/lib/python3.10/dist-packages/backtesting/_plotting.py:659: UserWarning: found multiple competing values for 'toolbar.active_scroll' property; using the latest value\n",
            "  fig = gridplot(\n"
          ]
        },
        {
          "output_type": "display_data",
          "data": {
            "application/javascript": [
              "(function(root) {\n",
              "  function now() {\n",
              "    return new Date();\n",
              "  }\n",
              "\n",
              "  const force = true;\n",
              "\n",
              "  if (typeof root._bokeh_onload_callbacks === \"undefined\" || force === true) {\n",
              "    root._bokeh_onload_callbacks = [];\n",
              "    root._bokeh_is_loading = undefined;\n",
              "  }\n",
              "\n",
              "const JS_MIME_TYPE = 'application/javascript';\n",
              "  const HTML_MIME_TYPE = 'text/html';\n",
              "  const EXEC_MIME_TYPE = 'application/vnd.bokehjs_exec.v0+json';\n",
              "  const CLASS_NAME = 'output_bokeh rendered_html';\n",
              "\n",
              "  /**\n",
              "   * Render data to the DOM node\n",
              "   */\n",
              "  function render(props, node) {\n",
              "    const script = document.createElement(\"script\");\n",
              "    node.appendChild(script);\n",
              "  }\n",
              "\n",
              "  /**\n",
              "   * Handle when an output is cleared or removed\n",
              "   */\n",
              "  function handleClearOutput(event, handle) {\n",
              "    function drop(id) {\n",
              "      const view = Bokeh.index.get_by_id(id)\n",
              "      if (view != null) {\n",
              "        view.model.document.clear()\n",
              "        Bokeh.index.delete(view)\n",
              "      }\n",
              "    }\n",
              "\n",
              "    const cell = handle.cell;\n",
              "\n",
              "    const id = cell.output_area._bokeh_element_id;\n",
              "    const server_id = cell.output_area._bokeh_server_id;\n",
              "\n",
              "    // Clean up Bokeh references\n",
              "    if (id != null) {\n",
              "      drop(id)\n",
              "    }\n",
              "\n",
              "    if (server_id !== undefined) {\n",
              "      // Clean up Bokeh references\n",
              "      const cmd_clean = \"from bokeh.io.state import curstate; print(curstate().uuid_to_server['\" + server_id + \"'].get_sessions()[0].document.roots[0]._id)\";\n",
              "      cell.notebook.kernel.execute(cmd_clean, {\n",
              "        iopub: {\n",
              "          output: function(msg) {\n",
              "            const id = msg.content.text.trim()\n",
              "            drop(id)\n",
              "          }\n",
              "        }\n",
              "      });\n",
              "      // Destroy server and session\n",
              "      const cmd_destroy = \"import bokeh.io.notebook as ion; ion.destroy_server('\" + server_id + \"')\";\n",
              "      cell.notebook.kernel.execute(cmd_destroy);\n",
              "    }\n",
              "  }\n",
              "\n",
              "  /**\n",
              "   * Handle when a new output is added\n",
              "   */\n",
              "  function handleAddOutput(event, handle) {\n",
              "    const output_area = handle.output_area;\n",
              "    const output = handle.output;\n",
              "\n",
              "    // limit handleAddOutput to display_data with EXEC_MIME_TYPE content only\n",
              "    if ((output.output_type != \"display_data\") || (!Object.prototype.hasOwnProperty.call(output.data, EXEC_MIME_TYPE))) {\n",
              "      return\n",
              "    }\n",
              "\n",
              "    const toinsert = output_area.element.find(\".\" + CLASS_NAME.split(' ')[0]);\n",
              "\n",
              "    if (output.metadata[EXEC_MIME_TYPE][\"id\"] !== undefined) {\n",
              "      toinsert[toinsert.length - 1].firstChild.textContent = output.data[JS_MIME_TYPE];\n",
              "      // store reference to embed id on output_area\n",
              "      output_area._bokeh_element_id = output.metadata[EXEC_MIME_TYPE][\"id\"];\n",
              "    }\n",
              "    if (output.metadata[EXEC_MIME_TYPE][\"server_id\"] !== undefined) {\n",
              "      const bk_div = document.createElement(\"div\");\n",
              "      bk_div.innerHTML = output.data[HTML_MIME_TYPE];\n",
              "      const script_attrs = bk_div.children[0].attributes;\n",
              "      for (let i = 0; i < script_attrs.length; i++) {\n",
              "        toinsert[toinsert.length - 1].firstChild.setAttribute(script_attrs[i].name, script_attrs[i].value);\n",
              "        toinsert[toinsert.length - 1].firstChild.textContent = bk_div.children[0].textContent\n",
              "      }\n",
              "      // store reference to server id on output_area\n",
              "      output_area._bokeh_server_id = output.metadata[EXEC_MIME_TYPE][\"server_id\"];\n",
              "    }\n",
              "  }\n",
              "\n",
              "  function register_renderer(events, OutputArea) {\n",
              "\n",
              "    function append_mime(data, metadata, element) {\n",
              "      // create a DOM node to render to\n",
              "      const toinsert = this.create_output_subarea(\n",
              "        metadata,\n",
              "        CLASS_NAME,\n",
              "        EXEC_MIME_TYPE\n",
              "      );\n",
              "      this.keyboard_manager.register_events(toinsert);\n",
              "      // Render to node\n",
              "      const props = {data: data, metadata: metadata[EXEC_MIME_TYPE]};\n",
              "      render(props, toinsert[toinsert.length - 1]);\n",
              "      element.append(toinsert);\n",
              "      return toinsert\n",
              "    }\n",
              "\n",
              "    /* Handle when an output is cleared or removed */\n",
              "    events.on('clear_output.CodeCell', handleClearOutput);\n",
              "    events.on('delete.Cell', handleClearOutput);\n",
              "\n",
              "    /* Handle when a new output is added */\n",
              "    events.on('output_added.OutputArea', handleAddOutput);\n",
              "\n",
              "    /**\n",
              "     * Register the mime type and append_mime function with output_area\n",
              "     */\n",
              "    OutputArea.prototype.register_mime_type(EXEC_MIME_TYPE, append_mime, {\n",
              "      /* Is output safe? */\n",
              "      safe: true,\n",
              "      /* Index of renderer in `output_area.display_order` */\n",
              "      index: 0\n",
              "    });\n",
              "  }\n",
              "\n",
              "  // register the mime type if in Jupyter Notebook environment and previously unregistered\n",
              "  if (root.Jupyter !== undefined) {\n",
              "    const events = require('base/js/events');\n",
              "    const OutputArea = require('notebook/js/outputarea').OutputArea;\n",
              "\n",
              "    if (OutputArea.prototype.mime_types().indexOf(EXEC_MIME_TYPE) == -1) {\n",
              "      register_renderer(events, OutputArea);\n",
              "    }\n",
              "  }\n",
              "  if (typeof (root._bokeh_timeout) === \"undefined\" || force === true) {\n",
              "    root._bokeh_timeout = Date.now() + 5000;\n",
              "    root._bokeh_failed_load = false;\n",
              "  }\n",
              "\n",
              "  const NB_LOAD_WARNING = {'data': {'text/html':\n",
              "     \"<div style='background-color: #fdd'>\\n\"+\n",
              "     \"<p>\\n\"+\n",
              "     \"BokehJS does not appear to have successfully loaded. If loading BokehJS from CDN, this \\n\"+\n",
              "     \"may be due to a slow or bad network connection. Possible fixes:\\n\"+\n",
              "     \"</p>\\n\"+\n",
              "     \"<ul>\\n\"+\n",
              "     \"<li>re-rerun `output_notebook()` to attempt to load from CDN again, or</li>\\n\"+\n",
              "     \"<li>use INLINE resources instead, as so:</li>\\n\"+\n",
              "     \"</ul>\\n\"+\n",
              "     \"<code>\\n\"+\n",
              "     \"from bokeh.resources import INLINE\\n\"+\n",
              "     \"output_notebook(resources=INLINE)\\n\"+\n",
              "     \"</code>\\n\"+\n",
              "     \"</div>\"}};\n",
              "\n",
              "  function display_loaded() {\n",
              "    const el = document.getElementById(null);\n",
              "    if (el != null) {\n",
              "      el.textContent = \"BokehJS is loading...\";\n",
              "    }\n",
              "    if (root.Bokeh !== undefined) {\n",
              "      if (el != null) {\n",
              "        el.textContent = \"BokehJS \" + root.Bokeh.version + \" successfully loaded.\";\n",
              "      }\n",
              "    } else if (Date.now() < root._bokeh_timeout) {\n",
              "      setTimeout(display_loaded, 100)\n",
              "    }\n",
              "  }\n",
              "\n",
              "  function run_callbacks() {\n",
              "    try {\n",
              "      root._bokeh_onload_callbacks.forEach(function(callback) {\n",
              "        if (callback != null)\n",
              "          callback();\n",
              "      });\n",
              "    } finally {\n",
              "      delete root._bokeh_onload_callbacks\n",
              "    }\n",
              "    console.debug(\"Bokeh: all callbacks have finished\");\n",
              "  }\n",
              "\n",
              "  function load_libs(css_urls, js_urls, callback) {\n",
              "    if (css_urls == null) css_urls = [];\n",
              "    if (js_urls == null) js_urls = [];\n",
              "\n",
              "    root._bokeh_onload_callbacks.push(callback);\n",
              "    if (root._bokeh_is_loading > 0) {\n",
              "      console.debug(\"Bokeh: BokehJS is being loaded, scheduling callback at\", now());\n",
              "      return null;\n",
              "    }\n",
              "    if (js_urls == null || js_urls.length === 0) {\n",
              "      run_callbacks();\n",
              "      return null;\n",
              "    }\n",
              "    console.debug(\"Bokeh: BokehJS not loaded, scheduling load and callback at\", now());\n",
              "    root._bokeh_is_loading = css_urls.length + js_urls.length;\n",
              "\n",
              "    function on_load() {\n",
              "      root._bokeh_is_loading--;\n",
              "      if (root._bokeh_is_loading === 0) {\n",
              "        console.debug(\"Bokeh: all BokehJS libraries/stylesheets loaded\");\n",
              "        run_callbacks()\n",
              "      }\n",
              "    }\n",
              "\n",
              "    function on_error(url) {\n",
              "      console.error(\"failed to load \" + url);\n",
              "    }\n",
              "\n",
              "    for (let i = 0; i < css_urls.length; i++) {\n",
              "      const url = css_urls[i];\n",
              "      const element = document.createElement(\"link\");\n",
              "      element.onload = on_load;\n",
              "      element.onerror = on_error.bind(null, url);\n",
              "      element.rel = \"stylesheet\";\n",
              "      element.type = \"text/css\";\n",
              "      element.href = url;\n",
              "      console.debug(\"Bokeh: injecting link tag for BokehJS stylesheet: \", url);\n",
              "      document.body.appendChild(element);\n",
              "    }\n",
              "\n",
              "    for (let i = 0; i < js_urls.length; i++) {\n",
              "      const url = js_urls[i];\n",
              "      const element = document.createElement('script');\n",
              "      element.onload = on_load;\n",
              "      element.onerror = on_error.bind(null, url);\n",
              "      element.async = false;\n",
              "      element.src = url;\n",
              "      console.debug(\"Bokeh: injecting script tag for BokehJS library: \", url);\n",
              "      document.head.appendChild(element);\n",
              "    }\n",
              "  };\n",
              "\n",
              "  function inject_raw_css(css) {\n",
              "    const element = document.createElement(\"style\");\n",
              "    element.appendChild(document.createTextNode(css));\n",
              "    document.body.appendChild(element);\n",
              "  }\n",
              "\n",
              "  const js_urls = [\"https://cdn.bokeh.org/bokeh/release/bokeh-3.3.4.min.js\", \"https://cdn.bokeh.org/bokeh/release/bokeh-gl-3.3.4.min.js\", \"https://cdn.bokeh.org/bokeh/release/bokeh-widgets-3.3.4.min.js\", \"https://cdn.bokeh.org/bokeh/release/bokeh-tables-3.3.4.min.js\", \"https://cdn.bokeh.org/bokeh/release/bokeh-mathjax-3.3.4.min.js\"];\n",
              "  const css_urls = [];\n",
              "\n",
              "  const inline_js = [    function(Bokeh) {\n",
              "      Bokeh.set_log_level(\"info\");\n",
              "    },\n",
              "function(Bokeh) {\n",
              "    }\n",
              "  ];\n",
              "\n",
              "  function run_inline_js() {\n",
              "    if (root.Bokeh !== undefined || force === true) {\n",
              "          for (let i = 0; i < inline_js.length; i++) {\n",
              "      inline_js[i].call(root, root.Bokeh);\n",
              "    }\n",
              "} else if (Date.now() < root._bokeh_timeout) {\n",
              "      setTimeout(run_inline_js, 100);\n",
              "    } else if (!root._bokeh_failed_load) {\n",
              "      console.log(\"Bokeh: BokehJS failed to load within specified timeout.\");\n",
              "      root._bokeh_failed_load = true;\n",
              "    } else if (force !== true) {\n",
              "      const cell = $(document.getElementById(null)).parents('.cell').data().cell;\n",
              "      cell.output_area.append_execute_result(NB_LOAD_WARNING)\n",
              "    }\n",
              "  }\n",
              "\n",
              "  if (root._bokeh_is_loading === 0) {\n",
              "    console.debug(\"Bokeh: BokehJS loaded, going straight to plotting\");\n",
              "    run_inline_js();\n",
              "  } else {\n",
              "    load_libs(css_urls, js_urls, function() {\n",
              "      console.debug(\"Bokeh: BokehJS plotting callback run at\", now());\n",
              "      run_inline_js();\n",
              "    });\n",
              "  }\n",
              "}(window));"
            ],
            "application/vnd.bokehjs_load.v0+json": "(function(root) {\n  function now() {\n    return new Date();\n  }\n\n  const force = true;\n\n  if (typeof root._bokeh_onload_callbacks === \"undefined\" || force === true) {\n    root._bokeh_onload_callbacks = [];\n    root._bokeh_is_loading = undefined;\n  }\n\n\n  if (typeof (root._bokeh_timeout) === \"undefined\" || force === true) {\n    root._bokeh_timeout = Date.now() + 5000;\n    root._bokeh_failed_load = false;\n  }\n\n  const NB_LOAD_WARNING = {'data': {'text/html':\n     \"<div style='background-color: #fdd'>\\n\"+\n     \"<p>\\n\"+\n     \"BokehJS does not appear to have successfully loaded. If loading BokehJS from CDN, this \\n\"+\n     \"may be due to a slow or bad network connection. Possible fixes:\\n\"+\n     \"</p>\\n\"+\n     \"<ul>\\n\"+\n     \"<li>re-rerun `output_notebook()` to attempt to load from CDN again, or</li>\\n\"+\n     \"<li>use INLINE resources instead, as so:</li>\\n\"+\n     \"</ul>\\n\"+\n     \"<code>\\n\"+\n     \"from bokeh.resources import INLINE\\n\"+\n     \"output_notebook(resources=INLINE)\\n\"+\n     \"</code>\\n\"+\n     \"</div>\"}};\n\n  function display_loaded() {\n    const el = document.getElementById(null);\n    if (el != null) {\n      el.textContent = \"BokehJS is loading...\";\n    }\n    if (root.Bokeh !== undefined) {\n      if (el != null) {\n        el.textContent = \"BokehJS \" + root.Bokeh.version + \" successfully loaded.\";\n      }\n    } else if (Date.now() < root._bokeh_timeout) {\n      setTimeout(display_loaded, 100)\n    }\n  }\n\n  function run_callbacks() {\n    try {\n      root._bokeh_onload_callbacks.forEach(function(callback) {\n        if (callback != null)\n          callback();\n      });\n    } finally {\n      delete root._bokeh_onload_callbacks\n    }\n    console.debug(\"Bokeh: all callbacks have finished\");\n  }\n\n  function load_libs(css_urls, js_urls, callback) {\n    if (css_urls == null) css_urls = [];\n    if (js_urls == null) js_urls = [];\n\n    root._bokeh_onload_callbacks.push(callback);\n    if (root._bokeh_is_loading > 0) {\n      console.debug(\"Bokeh: BokehJS is being loaded, scheduling callback at\", now());\n      return null;\n    }\n    if (js_urls == null || js_urls.length === 0) {\n      run_callbacks();\n      return null;\n    }\n    console.debug(\"Bokeh: BokehJS not loaded, scheduling load and callback at\", now());\n    root._bokeh_is_loading = css_urls.length + js_urls.length;\n\n    function on_load() {\n      root._bokeh_is_loading--;\n      if (root._bokeh_is_loading === 0) {\n        console.debug(\"Bokeh: all BokehJS libraries/stylesheets loaded\");\n        run_callbacks()\n      }\n    }\n\n    function on_error(url) {\n      console.error(\"failed to load \" + url);\n    }\n\n    for (let i = 0; i < css_urls.length; i++) {\n      const url = css_urls[i];\n      const element = document.createElement(\"link\");\n      element.onload = on_load;\n      element.onerror = on_error.bind(null, url);\n      element.rel = \"stylesheet\";\n      element.type = \"text/css\";\n      element.href = url;\n      console.debug(\"Bokeh: injecting link tag for BokehJS stylesheet: \", url);\n      document.body.appendChild(element);\n    }\n\n    for (let i = 0; i < js_urls.length; i++) {\n      const url = js_urls[i];\n      const element = document.createElement('script');\n      element.onload = on_load;\n      element.onerror = on_error.bind(null, url);\n      element.async = false;\n      element.src = url;\n      console.debug(\"Bokeh: injecting script tag for BokehJS library: \", url);\n      document.head.appendChild(element);\n    }\n  };\n\n  function inject_raw_css(css) {\n    const element = document.createElement(\"style\");\n    element.appendChild(document.createTextNode(css));\n    document.body.appendChild(element);\n  }\n\n  const js_urls = [\"https://cdn.bokeh.org/bokeh/release/bokeh-3.3.4.min.js\", \"https://cdn.bokeh.org/bokeh/release/bokeh-gl-3.3.4.min.js\", \"https://cdn.bokeh.org/bokeh/release/bokeh-widgets-3.3.4.min.js\", \"https://cdn.bokeh.org/bokeh/release/bokeh-tables-3.3.4.min.js\", \"https://cdn.bokeh.org/bokeh/release/bokeh-mathjax-3.3.4.min.js\"];\n  const css_urls = [];\n\n  const inline_js = [    function(Bokeh) {\n      Bokeh.set_log_level(\"info\");\n    },\nfunction(Bokeh) {\n    }\n  ];\n\n  function run_inline_js() {\n    if (root.Bokeh !== undefined || force === true) {\n          for (let i = 0; i < inline_js.length; i++) {\n      inline_js[i].call(root, root.Bokeh);\n    }\n} else if (Date.now() < root._bokeh_timeout) {\n      setTimeout(run_inline_js, 100);\n    } else if (!root._bokeh_failed_load) {\n      console.log(\"Bokeh: BokehJS failed to load within specified timeout.\");\n      root._bokeh_failed_load = true;\n    } else if (force !== true) {\n      const cell = $(document.getElementById(null)).parents('.cell').data().cell;\n      cell.output_area.append_execute_result(NB_LOAD_WARNING)\n    }\n  }\n\n  if (root._bokeh_is_loading === 0) {\n    console.debug(\"Bokeh: BokehJS loaded, going straight to plotting\");\n    run_inline_js();\n  } else {\n    load_libs(css_urls, js_urls, function() {\n      console.debug(\"Bokeh: BokehJS plotting callback run at\", now());\n      run_inline_js();\n    });\n  }\n}(window));"
          },
          "metadata": {}
        },
        {
          "output_type": "display_data",
          "data": {
            "text/html": [
              "\n",
              "  <div id=\"fd49d136-8848-4532-bb25-65fd030a06d4\" data-root-id=\"p3030\" style=\"display: contents;\"></div>\n"
            ]
          },
          "metadata": {}
        },
        {
          "output_type": "display_data",
          "data": {
            "application/javascript": [
              "(function(root) {\n",
              "  function embed_document(root) {\n",
              "  const docs_json = {\"bdcead92-1faa-433f-9d92-84658b5bf21c\":{\"version\":\"3.3.4\",\"title\":\"Bokeh Application\",\"roots\":[{\"type\":\"object\",\"name\":\"GridPlot\",\"id\":\"p3030\",\"attributes\":{\"rows\":null,\"cols\":null,\"sizing_mode\":\"stretch_width\",\"toolbar\":{\"type\":\"object\",\"name\":\"Toolbar\",\"id\":\"p3029\",\"attributes\":{\"logo\":null,\"tools\":[{\"type\":\"object\",\"name\":\"ToolProxy\",\"id\":\"p3021\",\"attributes\":{\"tools\":[{\"type\":\"object\",\"name\":\"PanTool\",\"id\":\"p2782\",\"attributes\":{\"dimensions\":\"width\"}},{\"type\":\"object\",\"name\":\"PanTool\",\"id\":\"p2879\",\"attributes\":{\"dimensions\":\"width\"}},{\"type\":\"object\",\"name\":\"PanTool\",\"id\":\"p2738\",\"attributes\":{\"dimensions\":\"width\"}},{\"type\":\"object\",\"name\":\"PanTool\",\"id\":\"p2934\",\"attributes\":{\"dimensions\":\"width\"}}]}},{\"type\":\"object\",\"name\":\"ToolProxy\",\"id\":\"p3022\",\"attributes\":{\"tools\":[{\"type\":\"object\",\"name\":\"WheelZoomTool\",\"id\":\"p2783\",\"attributes\":{\"dimensions\":\"width\",\"renderers\":\"auto\",\"maintain_focus\":false}},{\"type\":\"object\",\"name\":\"WheelZoomTool\",\"id\":\"p2880\",\"attributes\":{\"dimensions\":\"width\",\"renderers\":\"auto\",\"maintain_focus\":false}},{\"type\":\"object\",\"name\":\"WheelZoomTool\",\"id\":\"p2739\",\"attributes\":{\"dimensions\":\"width\",\"renderers\":\"auto\",\"maintain_focus\":false}},{\"type\":\"object\",\"name\":\"WheelZoomTool\",\"id\":\"p2935\",\"attributes\":{\"dimensions\":\"width\",\"renderers\":\"auto\",\"maintain_focus\":false}}]}},{\"type\":\"object\",\"name\":\"ToolProxy\",\"id\":\"p3023\",\"attributes\":{\"tools\":[{\"type\":\"object\",\"name\":\"BoxZoomTool\",\"id\":\"p2784\",\"attributes\":{\"overlay\":{\"type\":\"object\",\"name\":\"BoxAnnotation\",\"id\":\"p2785\",\"attributes\":{\"syncable\":false,\"level\":\"overlay\",\"visible\":false,\"left\":{\"type\":\"number\",\"value\":\"nan\"},\"right\":{\"type\":\"number\",\"value\":\"nan\"},\"top\":{\"type\":\"number\",\"value\":\"nan\"},\"bottom\":{\"type\":\"number\",\"value\":\"nan\"},\"left_units\":\"canvas\",\"right_units\":\"canvas\",\"top_units\":\"canvas\",\"bottom_units\":\"canvas\",\"line_color\":\"black\",\"line_alpha\":1.0,\"line_width\":2,\"line_dash\":[4,4],\"fill_color\":\"lightgrey\",\"fill_alpha\":0.5}}}},{\"type\":\"object\",\"name\":\"BoxZoomTool\",\"id\":\"p2881\",\"attributes\":{\"overlay\":{\"type\":\"object\",\"name\":\"BoxAnnotation\",\"id\":\"p2882\",\"attributes\":{\"syncable\":false,\"level\":\"overlay\",\"visible\":false,\"left\":{\"type\":\"number\",\"value\":\"nan\"},\"right\":{\"type\":\"number\",\"value\":\"nan\"},\"top\":{\"type\":\"number\",\"value\":\"nan\"},\"bottom\":{\"type\":\"number\",\"value\":\"nan\"},\"left_units\":\"canvas\",\"right_units\":\"canvas\",\"top_units\":\"canvas\",\"bottom_units\":\"canvas\",\"line_color\":\"black\",\"line_alpha\":1.0,\"line_width\":2,\"line_dash\":[4,4],\"fill_color\":\"lightgrey\",\"fill_alpha\":0.5}}}},{\"type\":\"object\",\"name\":\"BoxZoomTool\",\"id\":\"p2740\",\"attributes\":{\"overlay\":{\"type\":\"object\",\"name\":\"BoxAnnotation\",\"id\":\"p2741\",\"attributes\":{\"syncable\":false,\"level\":\"overlay\",\"visible\":false,\"left\":{\"type\":\"number\",\"value\":\"nan\"},\"right\":{\"type\":\"number\",\"value\":\"nan\"},\"top\":{\"type\":\"number\",\"value\":\"nan\"},\"bottom\":{\"type\":\"number\",\"value\":\"nan\"},\"left_units\":\"canvas\",\"right_units\":\"canvas\",\"top_units\":\"canvas\",\"bottom_units\":\"canvas\",\"line_color\":\"black\",\"line_alpha\":1.0,\"line_width\":2,\"line_dash\":[4,4],\"fill_color\":\"lightgrey\",\"fill_alpha\":0.5}}}},{\"type\":\"object\",\"name\":\"BoxZoomTool\",\"id\":\"p2936\",\"attributes\":{\"overlay\":{\"type\":\"object\",\"name\":\"BoxAnnotation\",\"id\":\"p2937\",\"attributes\":{\"syncable\":false,\"level\":\"overlay\",\"visible\":false,\"left\":{\"type\":\"number\",\"value\":\"nan\"},\"right\":{\"type\":\"number\",\"value\":\"nan\"},\"top\":{\"type\":\"number\",\"value\":\"nan\"},\"bottom\":{\"type\":\"number\",\"value\":\"nan\"},\"left_units\":\"canvas\",\"right_units\":\"canvas\",\"top_units\":\"canvas\",\"bottom_units\":\"canvas\",\"line_color\":\"black\",\"line_alpha\":1.0,\"line_width\":2,\"line_dash\":[4,4],\"fill_color\":\"lightgrey\",\"fill_alpha\":0.5}}}}]}},{\"type\":\"object\",\"name\":\"ToolProxy\",\"id\":\"p3024\",\"attributes\":{\"tools\":[{\"type\":\"object\",\"name\":\"UndoTool\",\"id\":\"p2790\"},{\"type\":\"object\",\"name\":\"UndoTool\",\"id\":\"p2887\"},{\"type\":\"object\",\"name\":\"UndoTool\",\"id\":\"p2746\"},{\"type\":\"object\",\"name\":\"UndoTool\",\"id\":\"p2942\"}]}},{\"type\":\"object\",\"name\":\"ToolProxy\",\"id\":\"p3025\",\"attributes\":{\"tools\":[{\"type\":\"object\",\"name\":\"RedoTool\",\"id\":\"p2791\"},{\"type\":\"object\",\"name\":\"RedoTool\",\"id\":\"p2888\"},{\"type\":\"object\",\"name\":\"RedoTool\",\"id\":\"p2747\"},{\"type\":\"object\",\"name\":\"RedoTool\",\"id\":\"p2943\"}]}},{\"type\":\"object\",\"name\":\"ToolProxy\",\"id\":\"p3026\",\"attributes\":{\"tools\":[{\"type\":\"object\",\"name\":\"ResetTool\",\"id\":\"p2792\"},{\"type\":\"object\",\"name\":\"ResetTool\",\"id\":\"p2889\"},{\"type\":\"object\",\"name\":\"ResetTool\",\"id\":\"p2748\"},{\"type\":\"object\",\"name\":\"ResetTool\",\"id\":\"p2944\"}]}},{\"type\":\"object\",\"name\":\"SaveTool\",\"id\":\"p3027\"},{\"type\":\"object\",\"name\":\"HoverTool\",\"id\":\"p2815\",\"attributes\":{\"renderers\":[{\"type\":\"object\",\"name\":\"GlyphRenderer\",\"id\":\"p2812\",\"attributes\":{\"data_source\":{\"type\":\"object\",\"name\":\"ColumnDataSource\",\"id\":\"p2750\",\"attributes\":{\"selected\":{\"type\":\"object\",\"name\":\"Selection\",\"id\":\"p2751\",\"attributes\":{\"indices\":[],\"line_indices\":[]}},\"selection_policy\":{\"type\":\"object\",\"name\":\"UnionRenderers\",\"id\":\"p2752\"},\"data\":{\"type\":\"map\",\"entries\":[[\"index\",{\"type\":\"ndarray\",\"array\":{\"type\":\"bytes\",\"data\":\"AAAAAAEAAAACAAAAAwAAAAQAAAAFAAAABgAAAAcAAAAIAAAACQAAAAoAAAALAAAADAAAAA0AAAAOAAAADwAAABAAAAARAAAAEgAAABMAAAAUAAAAFQAAABYAAAAXAAAAGAAAABkAAAAaAAAAGwAAABwAAAAdAAAAHgAAAB8AAAAgAAAAIQAAACIAAAAjAAAAJAAAACUAAAAmAAAAJwAAACgAAAApAAAAKgAAACsAAAAsAAAALQAAAC4AAAAvAAAAMAAAADEAAAAyAAAAMwAAADQAAAA1AAAANgAAADcAAAA4AAAAOQAAADoAAAA7AAAAPAAAAD0AAAA+AAAAPwAAAEAAAABBAAAAQgAAAEMAAABEAAAARQAAAEYAAABHAAAASAAAAEkAAABKAAAASwAAAEwAAABNAAAATgAAAE8AAABQAAAAUQAAAFIAAABTAAAAVAAAAFUAAABWAAAAVwAAAFgAAABZAAAAWgAAAFsAAABcAAAAXQAAAF4AAABfAAAAYAAAAGEAAABiAAAAYwAAAGQAAABlAAAAZgAAAGcAAABoAAAAaQAAAGoAAAA=\"},\"shape\":[107],\"dtype\":\"int32\",\"order\":\"little\"}],[\"Open\",{\"type\":\"ndarray\",\"array\":{\"type\":\"bytes\",\"data\":\"AAAAgMJdd0AAAAAAKRB3QAAAAGC4KndAAAAAIIUPd0AAAADAzBR3QAAAAAApQHdAAAAAgOuFd0AAAAAAACB4QAAAAADXF3hAAAAAYI+aeEAAAAAgrj94QAAAACCFe3hAAAAAACm8eEAAAADgUQB5QAAAAAAAvHhAAAAA4KMYeUAAAADAHkV5QAAAAIDrRXlAAAAAwPVgeUAAAAAAKcR5QAAAACBcb3lAAAAAoEcdeUAAAADA9Tx5QAAAAGBmnnlAAAAAgBReeUAAAABACnd5QAAAAMDM4HlAAAAAAAD0eUAAAADA9Uh6QAAAAEAKT3lAAAAAwB6BeUAAAACAPYJ5QAAAACBcf3lAAAAAANczeUAAAABguAJ5QAAAAEAKo3lAAAAAYLj6eUAAAAAgXLd5QAAAAADXf3lAAAAAQOGCeUAAAACAPYp5QAAAAOBRtHlAAAAAQArXeUAAAAAgXN95QAAAACCFL3lAAAAAgOtheUAAAAAgXH95QAAAAAApPHlAAAAAgOt5eUAAAACgmSF6QAAAAADXQ3pAAAAA4KM0ekAAAAAAAOR5QAAAAKBHHXpAAAAAAABgekAAAACgR916QAAAAEAz23pAAAAAANeTekAAAACAwpl6QAAAAEAKh3pAAAAAIFxPekAAAABAM396QAAAAIDCQXpAAAAAIK47ekAAAAAA1496QAAAAAApQHpAAAAAYLiSekAAAABACqd6QAAAAEAKY3pAAAAAwB6dekAAAADAzIB6QAAAAKCZqXpAAAAAwB7peUAAAAAAABR6QAAAAIAUqnlAAAAA4HpAeUAAAACgRwF5QAAAAADXQ3lAAAAAwPWYeUAAAADgeqB4QAAAAGC4wnlAAAAAAABUeUAAAAAA1xd5QAAAAIDCiXhAAAAAYI/aeEAAAADgeiR5QAAAAAApjHlAAAAAYI/qeUAAAABguIJ5QAAAAMAeqXlAAAAAQArPeUAAAAAAKSB6QAAAAOBRwHlAAAAAYGYeekAAAADAzFx6QAAAAOCjaHpAAAAAIFxDekAAAACgR616QAAAAKBw4XpAAAAAIIUPe0AAAABACrN6QAAAAIAU2npAAAAAQAqbekAAAADAzIR6QAAAAAAADHpAAAAA4Hr4eUAAAABA4cZ5QA==\"},\"shape\":[107],\"dtype\":\"float64\",\"order\":\"little\"}],[\"High\",{\"type\":\"ndarray\",\"array\":{\"type\":\"bytes\",\"data\":\"AAAAYGZ+d0AAAAAAKVR3QAAAAKCZUXdAAAAAwPVAd0AAAABAM3N3QAAAAADXf3dAAAAAYLgCeEAAAABA4Wp4QAAAAEDhSnhAAAAA4HqgeEAAAACAwmF4QAAAAADXn3hAAAAAYLjqeEAAAACA6wl5QAAAAIAU9nhAAAAAgBRaeUAAAAAAKXB5QAAAAGC4YnlAAAAAIK6feUAAAADAzNB5QAAAAMAe9XlAAAAAAACAeUAAAABgZsp5QAAAAGCPsnlAAAAAIIV/eUAAAADAzOR5QAAAAMD1+HlAAAAAwB5NekAAAAAA10t6QAAAAMAeoXlAAAAAoHCdeUAAAACAFJJ5QAAAAOCjhHlAAAAAANdHeUAAAADgoyR5QAAAAKBHzXlAAAAAgML9eUAAAABgj8J5QAAAAMAehXlAAAAAwMyUeUAAAABAM+N5QAAAAIDr/XlAAAAAoJkVekAAAAAAAOR5QAAAAGCPUnlAAAAA4HqceUAAAABguKZ5QAAAAEDhWnlAAAAAwB75eUAAAABA4SJ6QAAAAMAevXpAAAAAoJlpekAAAAAgrkt6QAAAAGC4WnpAAAAAIFyfekAAAADAHu16QAAAAIDC3XpAAAAAYI+2ekAAAAAA1596QAAAAEAzh3pAAAAAgOtdekAAAACAPb56QAAAAIAUZnpAAAAAACl0ekAAAABguMp6QAAAAAApqHpAAAAA4Hq0ekAAAAAA17t6QAAAAOB6gHpAAAAAgOvVekAAAABA4ZJ6QAAAAMAerXpAAAAAYGYmekAAAACAFC56QAAAAIA9vnlAAAAAIK5XeUAAAACgmS15QAAAAEAzg3lAAAAAIIXHeUAAAACAPf54QAAAAAAA0HlAAAAAwB5leUAAAABgjyJ5QAAAACCFG3lAAAAAQOH+eEAAAABgZnJ5QAAAAEDh3nlAAAAAYLjqeUAAAAAgrsN5QAAAACCFy3lAAAAAgBT2eUAAAACgmSV6QAAAAADXF3pAAAAAwPV8ekAAAABguJZ6QAAAAGC4bnpAAAAA4FGsekAAAAAghQ97QAAAAGCPBntAAAAAoJkZe0AAAADA9fB6QAAAAMAe7XpAAAAAQArvekAAAADAzIR6QAAAAAAADHpAAAAAQOEGekAAAABACgd6QA==\"},\"shape\":[107],\"dtype\":\"float64\",\"order\":\"little\"}],[\"Low\",{\"type\":\"ndarray\",\"array\":{\"type\":\"bytes\",\"data\":\"AAAA4FHsdkAAAAAAKQh3QAAAAGC48nZAAAAAAADodkAAAAAAKRB3QAAAAEAKM3dAAAAAwB6Fd0AAAACAFMZ3QAAAAGBmCnhAAAAAgOs5eEAAAADA9Qx4QAAAAIDrYXhAAAAAAACYeEAAAACgcJl4QAAAAEDhnnhAAAAAQDMHeUAAAADgeih5QAAAAEDhJnlAAAAAoEdFeUAAAABAM2d5QAAAACBc03hAAAAAwMwceUAAAADA9Th5QAAAAADXP3lAAAAAYI8ueUAAAABgZnZ5QAAAAOB6yHlAAAAAoHDxeUAAAAAAAOx5QAAAAIA9NnlAAAAAwB5JeUAAAADgo0R5QAAAAEAKN3lAAAAAACngeEAAAAAghdN4QAAAAMAeiXlAAAAAIIWPeUAAAACAwnV5QAAAAKCZPXlAAAAAwB5VeUAAAABguF55QAAAAIAUrnlAAAAAwB7FeUAAAACAPQp5QAAAAIA95nhAAAAAANcjeUAAAACgR0V5QAAAAAApFHlAAAAA4KNseUAAAABAM7d5QAAAAADXH3pAAAAA4KPMeUAAAADgetx5QAAAAMDM+HlAAAAAYI9KekAAAABgj7J6QAAAAMAeoXpAAAAAgMJZekAAAACgmVV6QAAAAAApMHpAAAAAgOsxekAAAAAghWN6QAAAAKBwHXpAAAAAoHAxekAAAADAHhl6QAAAAMAeJXpAAAAAwMx0ekAAAACA61l6QAAAAEAzO3pAAAAAgMJlekAAAADgUTx6QAAAAEDh1nlAAAAAIK7beUAAAACgR6V5QAAAAEAzP3lAAAAA4FHceEAAAAAAALx4QAAAAMD1MHlAAAAA4HpseUAAAADgekB4QAAAAAApXHlAAAAAQArzeEAAAABguFJ4QAAAAMD1ZHhAAAAAYGaqeEAAAACAwh15QAAAAIDrZXlAAAAAoHCReUAAAAAgXGt5QAAAAKCZkXlAAAAAwMy8eUAAAADAHq15QAAAAMDMuHlAAAAA4FEUekAAAACgmUV6QAAAAOB6IHpAAAAAANc/ekAAAACgmY16QAAAAIAUsnpAAAAAYLiWekAAAABgj4Z6QAAAAKCZqXpAAAAAQAqbekAAAAAA1+N5QAAAAAApSHlAAAAAYLiOeUAAAABA4Zp5QA==\"},\"shape\":[107],\"dtype\":\"float64\",\"order\":\"little\"}],[\"Close\",{\"type\":\"ndarray\",\"array\":{\"type\":\"bytes\",\"data\":\"AAAAgOstd0AAAACgmSl3QAAAAEAK/3ZAAAAAAAD8dkAAAABACmt3QAAAAOCjfHdAAAAA4FHsd0AAAACAFAp4QAAAACCFR3hAAAAA4FFkeEAAAAAghVd4QAAAAIDrnXhAAAAAYLjqeEAAAAAAKch4QAAAAGBm7nhAAAAAwPUoeUAAAACA6015QAAAAEDhPnlAAAAAIIWbeUAAAACgcIl5QAAAAKBH2XhAAAAA4Ho8eUAAAAAghbN5QAAAAGBmWnlAAAAAANdXeUAAAADAzOB5QAAAAIDC4XlAAAAAwMxIekAAAAAAKfR5QAAAAMAeZXlAAAAAANeXeUAAAADA9Wh5QAAAAMD1QHlAAAAA4KMseUAAAABA4SJ5QAAAAGBmunlAAAAAoHCleUAAAADgo3h5QAAAACCud3lAAAAAIIV7eUAAAACAPdp5QAAAAAAA+HlAAAAAYLjueUAAAABgZip5QAAAAKBwIXlAAAAAgD2SeUAAAAAghWN5QAAAAOBRSHlAAAAA4Hr0eUAAAACgmfF5QAAAACCFk3pAAAAAYLgGekAAAADAHhV6QAAAAGCPVnpAAAAAIK6TekAAAACA69V6QAAAAADXy3pAAAAAgMJtekAAAABgZlp6QAAAAEDhVnpAAAAAIIVLekAAAADAHol6QAAAAEAKV3pAAAAAQDNHekAAAACAFB56QAAAAOBRmHpAAAAAoHCJekAAAADgeqR6QAAAAAApdHpAAAAAQOG+ekAAAABgZl56QAAAAIA92nlAAAAAoEfpeUAAAACgcL15QAAAAOBRRHlAAAAAgOvxeEAAAAAgXA95QAAAAMAeeXlAAAAAwPWQeUAAAADgo/B4QAAAAMAeZXlAAAAAAAAkeUAAAACgR1V4QAAAAEAKr3hAAAAAoHDdeEAAAABgj2p5QAAAAOCj2HlAAAAAoHCVeUAAAADgo6h5QAAAAMAexXlAAAAAANfreUAAAAAghdt5QAAAAMD1CHpAAAAAoEdxekAAAAAA1096QAAAACBcQ3pAAAAAoHCVekAAAADgo9B6QAAAAOBR6HpAAAAAAACwekAAAABgj+J6QAAAAMAe5XpAAAAAYLjSekAAAABguOp5QAAAAIAU8nlAAAAA4FHYeUAAAADAHgF6QA==\"},\"shape\":[107],\"dtype\":\"float64\",\"order\":\"little\"}],[\"Volume\",{\"type\":\"ndarray\",\"array\":{\"type\":\"bytes\",\"data\":\"aGqBAew5YAF87j4BeDxAATD/YAEw1z0B2FCFATD4qAGESUoB/BKfAfRDUwFk72QBwKe+AcQ+nAFMMzkBuHB7ARDCQAEkqA8B+P51AeDT/gF8dNoCpMzTAQj8rgFs2IIBCH8YAZTjVAFU30MBoDFQAdSHQwEEk6gBMEw3AdwHTQGM+1MBvOhyAbxJHAFsI5wB3Kf4ANwX9wBYYOIAfCjJACR65wFsnA8BYH4MASDBmgGk8VQBJJ8dAfQ5EgHg+/UAqKpWAfwqBQH0MgkCyGevAhDLMgHMsy4BBIYQAUj0RAGUHA0B1JQTAWA2/wDo5f4AYLpNAWD2+ADAUBEBHM77AJSTJwEscvwAkMfZACzsvgAYcvcAQCUSAWR1JQFcWTUBoNL/AIzv8QAM5EABlPvNAbSNNQHkFvAA1ODlAARNawLsGsUBlMwqAVgrtwEEiWcBWDkOASw3CgH4WAMBGHQxAazvswCkJeAAvIDMAEiZ6wC0jOYADFlTAfR8CwGIQeoA5Er4APRZRwFkyBMBNKEGAajAtABw1u8ArMXsAGC6sQGkWdwCnMsKAWTy2gA=\"},\"shape\":[107],\"dtype\":\"int32\",\"order\":\"little\"}],[\"datetime\",{\"type\":\"ndarray\",\"array\":{\"type\":\"bytes\",\"data\":\"AAAAhXfMeEIAAMDqycx4QgAAgFAczXhCAABAtm7NeEIAAIDnZc54QgAAQE24znhCAAAAswrPeEIAAMAYXc94QgAAgH6vz3hCAACAFfnQeEIAAEB7S9F4QgAAAOGd0XhCAADARvDReEIAAAB459J4QgAAwN0503hCAACAQ4zTeEIAAECp3tN4QgAAAA8x1HhCAABAQCjVeEIAAACmetV4QgAAwAvN1XhCAACAcR/WeEIAAEDXcdZ4QgAAgAhp13hCAABAbrvXeEIAAADUDdh4QgAAwDlg2HhCAACAn7LYeEIAAMDQqdl4QgAAgDb82XhCAABAnE7aeEIAAAACodp4QgAAwGfz2nhCAADA/jzceEIAAIBkj9x4QgAAQMrh3HhCAAAAMDTdeEIAAEBhK954QgAAAMd93nhCAADALNDeeEIAAICSIt94QgAAQPh033hCAACAKWzgeEIAAECPvuB4QgAAAPUQ4XhCAADAWmPheEIAAIDAteF4QgAAwPGs4nhCAACAV//ieEIAAEC9UeN4QgAAACOk43hCAADAiPbjeEIAAAC67eR4QgAAwB9A5XhCAACAhZLleEIAAEDr5OV4QgAAAFE35nhCAABAgi7neEIAAADogOd4QgAAwE3T53hCAACAsyXoeEIAAIBKb+l4QgAAQLDB6XhCAAAAFhTqeEIAAMB7Zup4QgAAgOG46nhCAADAErDreEIAAIB4Aux4QgAAQN5U7HhCAAAARKfseEIAAMCp+ex4QgAAANvw7XhCAADAQEPueEIAAICmle54QgAAQAzo7nhCAAAAcjrveEIAAECjMfB4QgAAAAmE8HhCAADAbtbweEIAAIDUKPF4QgAAQDp78XhCAACAa3LyeEIAAEDRxPJ4QgAAADcX83hCAADAnGnzeEIAAIACvPN4QgAAwDOz9HhCAACAmQX1eEIAAED/V/V4QgAAAGWq9XhCAADAyvz1eEIAAAD88/Z4QgAAwGFG93hCAACAx5j3eEIAAEAt6/d4QgAAAJM9+HhCAABAxDT5eEIAAAAqh/l4QgAAwI/Z+XhCAACA9Sv6eEIAAEBbfvp4QgAAQPLH+3hCAAAAWBr8eEIAAMC9bPx4QgAAgCO//HhCAADAVLb9eEIAAIC6CP54Qg==\"},\"shape\":[107],\"dtype\":\"float64\",\"order\":\"little\"}],[\"inc\",{\"type\":\"ndarray\",\"array\":[\"0\",\"1\",\"0\",\"0\",\"1\",\"1\",\"1\",\"0\",\"1\",\"0\",\"1\",\"1\",\"1\",\"0\",\"1\",\"1\",\"1\",\"0\",\"1\",\"0\",\"0\",\"1\",\"1\",\"0\",\"0\",\"1\",\"1\",\"1\",\"0\",\"1\",\"1\",\"0\",\"0\",\"0\",\"1\",\"1\",\"0\",\"0\",\"0\",\"0\",\"1\",\"1\",\"1\",\"0\",\"0\",\"1\",\"0\",\"1\",\"1\",\"0\",\"1\",\"0\",\"1\",\"1\",\"1\",\"0\",\"0\",\"0\",\"0\",\"0\",\"0\",\"1\",\"1\",\"1\",\"0\",\"1\",\"0\",\"0\",\"1\",\"1\",\"0\",\"0\",\"1\",\"0\",\"0\",\"0\",\"1\",\"1\",\"0\",\"1\",\"0\",\"0\",\"0\",\"1\",\"1\",\"1\",\"1\",\"0\",\"1\",\"1\",\"1\",\"0\",\"1\",\"1\",\"0\",\"0\",\"1\",\"1\",\"1\",\"0\",\"1\",\"1\",\"1\",\"0\",\"0\",\"0\",\"1\"],\"shape\":[107],\"dtype\":\"object\",\"order\":\"little\"}],[\"equity\",{\"type\":\"ndarray\",\"array\":{\"type\":\"bytes\",\"data\":\"AAAAAAAA8D8AAAAAAADwPyBj7lraxe8/8fRKWc7B7z8Q6bevzyrwP/fkYaGGNvA/1QloItyA8D8Z4lgXq5TwP9NNYhCQvfA/8WPMXbvQ8D9O0ZFcNsjwP40o7Q0S9/A/fGEyVTAq8T9SuB6FLxPxP9nO91OjLPE/PL1Slp1T8T/ZzvdTN2zxPyV1Apo0YvE/z/dT492f8T8E54wo1ZPxP/cGX5iUHvE/swxxrJtg8T8IPZtV16/xP1mGONaFdPE/JuSDntFy8T+F61G4+s3xP00VjEqezvE/J8KGpzMT8j+amZmZ3drxPwskKH6oe/E/E/JBz2qd8T8pyxDHNn7xP3UCmgiXY/E/+MJkqhBW8T8OT6+UkU/xPz2bVZ9rtPE/Gw3gLXim8T+Cc0aUpojxP7pJDAIDiPE/2PD0SpGK8T/SAN4CncnxP7hAguJr3fE/EHo2qz7X8T/n+6nxklTxP2IQWDmcTvE/JzEIrLCZ8T+fq63Yl3rxP451cRt9aPE/vHSTGBTb8T9m9+RhKdnxP8ZtNIDvRPI/SL99HTjn8T9YyjLEzfDxP/AWSFBcHPI/h6dXygpF8j8m5IOeIXHyPxiV1AlsavI/w9MrZc0r8j8OvjCZ6h7yPxPyQc+SHPI/G55eKQMV8j+WQ4tsAz7yP9QrZRmuHPI/GeJYFyMS8j/dtYR8xPbxP6s+V1shSPI/uB6F6zk+8j8JG55eOVDyP3S1FfsPMPI/tMh2vsth8j/tnjwslCHyP9IA3gKdyfE/J8KGp5/T8T9UUiegcbbxP6+UZYjTZfE/1JrmHfsu8T+X/5B+k0LxP2aIY134iPE/3pOHhdaY8T/qlbIMIS7xPwskKH6oe/E/lrIMcVBQ8T89CtejuMbwP5EPejZ3AvE/liGOdVkh8T+WQ4tsR3/xP2aIY12MyPE/oImw4dGb8T/0/dR4majxP+84RUeOu/E/WmQ731PV8T+8BRIUd8rxP/rt68C16PE/vp8aLyUu8j8dWmQ74xfyP5yiI7mUD/I/VcGopDZG8j9d/kP6nW3yPxTQRNhgffI/waikTuRX8j9n1edqi3nyP5p3nKI/e/I/rIvbaABv8j8xmSoYldTxP0oMAit72fE/5BQdyVXI8T/+ZffkfePxPw==\"},\"shape\":[107],\"dtype\":\"float64\",\"order\":\"little\"}],[\"\\u03bb_0_1\",{\"type\":\"ndarray\",\"array\":{\"type\":\"bytes\",\"data\":\"klb1CBzrdkDbfI80CAl3QM4n/ZI6JndAMXlftBJRd0BCfVSagYt3QETkcsrQondAYk0CmvzGd0DVRYNofOh3QGB7tjnNFXhAApeflTpieEAup36VKIJ4QArnZW6dnnhAguentUHGeEDC+ldYS+t4QPUZJRaE+HhAMp5GtZEReUCgfWXtJid5QJQnBT70R3lAuLhm9bdYeUDUx8wENl95QBhpeTyAcXlAYPXlokCAeUAL4qeJH5p5QPY9dKVGlXlA8Avm1EWUeUDc1i8a8p55QFM/nBn/pXlAIAmjvyK4eUDNkoS/p5x5QAyEXAKalHlA8PN3D6WYeUDgq92smJl5QLWZ2p5GpnlAN9f1Kjt1eUBvjTsKW3h5QIXdk912eXlAyfTAMWOHeUAYqI3qYmp5QNidlNWgZXlA5cSKbtNueUD5T4EKtnZ5QH57umnzi3lAynYvDveGeUA3ug1kaYp5QOaMsL2rm3lAW3QvLlareUBmLqBK/Md5QHt6VF2x1XlAagV3G+ndeUCgIBngHPN5QD8zcVncBXpAAk6Z9rYkekDQB2HS1DN6QJ5jGITcOnpAt9YyfhtOekD7HEuVLF56QLVFJruqeXpArv07PAt7ekCX5mxQZXx6QA9hacd1iXpAc9Mn/NuSekDcx74eXpB6QJ85ziu5iHpApg1ep1aMekAooUdn2Yt6QDWOE1PllXpANHh7gRVeekAeMWM2/0p6QAR3A5kbQ3pARrmz1S43ekBHiTh0AzZ6QEZ6njOo33lAtiR8YBfEeUDx49uh7rR5QLjmGN4po3lAjosl2cmdeUBpGmQmikZ5QKBqopEYL3lAL3RBCnEmeUCVdBAumh15QKXPFCSTI3lANWlbTAb8eEB/i3kuefh4QKPSespKBXlAUWN4PC4TeUBSgS2hwzB5QPdaeCUaUXlAuCqLJlVkeUDqLj5mjYZ5QBemXtX+p3lAPuwIBNjWeUAIhjY7Xxl6QB57XrobMXpAK1NWBgtUekAw3k21UXJ6QFcPMMgcmnpACQf/QmmxekAa2M0CPrR6QH5sGvSov3pA2658jkzEekDC/v0r49B6QK3YmBr6enpAD8SstNhsekCtA4/rM1p6QAyzXU5bUnpA5ipBr3nteUDT35DIjtB5QA==\"},\"shape\":[107],\"dtype\":\"float64\",\"order\":\"little\"}],[\"ohlc_low\",{\"type\":\"ndarray\",\"array\":{\"type\":\"bytes\",\"data\":\"klb1CBzrdkAAAAAAKQh3QAAAAGC48nZAAAAAAADodkAAAAAAKRB3QAAAAEAKM3dAAAAAwB6Fd0AAAACAFMZ3QAAAAGBmCnhAAAAAgOs5eEAAAADA9Qx4QAAAAIDrYXhAAAAAAACYeEAAAACgcJl4QAAAAEDhnnhAAAAAQDMHeUCgfWXtJid5QAAAAEDhJnlAAAAAoEdFeUDUx8wENl95QAAAACBc03hAAAAAwMwceUAAAADA9Th5QAAAAADXP3lAAAAAYI8ueUAAAABgZnZ5QFM/nBn/pXlAIAmjvyK4eUDNkoS/p5x5QAAAAIA9NnlAAAAAwB5JeUAAAADgo0R5QAAAAEAKN3lAAAAAACngeEAAAAAghdN4QIXdk912eXlAyfTAMWOHeUAYqI3qYmp5QAAAAKCZPXlAAAAAwB5VeUAAAABguF55QH57umnzi3lAynYvDveGeUAAAACAPQp5QAAAAIA95nhAAAAAANcjeUAAAACgR0V5QAAAAAApFHlAAAAA4KNseUAAAABAM7d5QD8zcVncBXpAAAAA4KPMeUAAAADgetx5QAAAAMDM+HlAAAAAYI9KekD7HEuVLF56QLVFJruqeXpAAAAAgMJZekAAAACgmVV6QAAAAAApMHpAAAAAgOsxekAAAAAghWN6QAAAAKBwHXpAAAAAoHAxekAAAADAHhl6QAAAAMAeJXpANHh7gRVeekAeMWM2/0p6QAAAAEAzO3pARrmz1S43ekBHiTh0AzZ6QAAAAEDh1nlAtiR8YBfEeUAAAACgR6V5QAAAAEAzP3lAAAAA4FHceEAAAAAAALx4QKBqopEYL3lAL3RBCnEmeUAAAADgekB4QKXPFCSTI3lAAAAAQArzeEAAAABguFJ4QAAAAMD1ZHhAAAAAYGaqeEAAAACAwh15QPdaeCUaUXlAuCqLJlVkeUAAAAAgXGt5QAAAAKCZkXlAAAAAwMy8eUAAAADAHq15QAAAAMDMuHlAAAAA4FEUekAAAACgmUV6QAAAAOB6IHpAAAAAANc/ekAAAACgmY16QAAAAIAUsnpAAAAAYLiWekAAAABgj4Z6QK3YmBr6enpAD8SstNhsekAAAAAA1+N5QAAAAAApSHlAAAAAYLiOeUAAAABA4Zp5QA==\"},\"shape\":[107],\"dtype\":\"float64\",\"order\":\"little\"}],[\"ohlc_high\",{\"type\":\"ndarray\",\"array\":{\"type\":\"bytes\",\"data\":\"AAAAYGZ+d0AAAAAAKVR3QAAAAKCZUXdAMXlftBJRd0BCfVSagYt3QETkcsrQondAAAAAYLgCeEAAAABA4Wp4QAAAAEDhSnhAAAAA4HqgeEAup36VKIJ4QAAAAADXn3hAAAAAYLjqeEAAAACA6wl5QPUZJRaE+HhAAAAAgBRaeUAAAAAAKXB5QAAAAGC4YnlAAAAAIK6feUAAAADAzNB5QAAAAMAe9XlAYPXlokCAeUAAAABgZsp5QAAAAGCPsnlA8Avm1EWUeUAAAADAzOR5QAAAAMD1+HlAAAAAwB5NekAAAAAA10t6QAAAAMAeoXlAAAAAoHCdeUDgq92smJl5QLWZ2p5GpnlAN9f1Kjt1eUBvjTsKW3h5QAAAAKBHzXlAAAAAgML9eUAAAABgj8J5QAAAAMAehXlAAAAAwMyUeUAAAABAM+N5QAAAAIDr/XlAAAAAoJkVekAAAAAAAOR5QOaMsL2rm3lAW3QvLlareUBmLqBK/Md5QHt6VF2x1XlAAAAAwB75eUAAAABA4SJ6QAAAAMAevXpAAAAAoJlpekAAAAAgrkt6QAAAAGC4WnpAAAAAIFyfekAAAADAHu16QAAAAIDC3XpAAAAAYI+2ekAAAAAA1596QA9hacd1iXpAc9Mn/NuSekAAAACAPb56QJ85ziu5iHpApg1ep1aMekAAAABguMp6QAAAAAApqHpAAAAA4Hq0ekAAAAAA17t6QAAAAOB6gHpAAAAAgOvVekAAAABA4ZJ6QAAAAMAerXpAAAAAYGYmekAAAACAFC56QAAAAIA9vnlAjosl2cmdeUBpGmQmikZ5QAAAAEAzg3lAAAAAIIXHeUCVdBAumh15QAAAAAAA0HlAAAAAwB5leUAAAABgjyJ5QAAAACCFG3lAUWN4PC4TeUAAAABgZnJ5QAAAAEDh3nlAAAAAYLjqeUAAAAAgrsN5QAAAACCFy3lAAAAAgBT2eUAAAACgmSV6QB57XrobMXpAAAAAwPV8ekAAAABguJZ6QFcPMMgcmnpACQf/QmmxekAAAAAghQ97QAAAAGCPBntAAAAAoJkZe0AAAADA9fB6QAAAAMAe7XpAAAAAQArvekAAAADAzIR6QAyzXU5bUnpAAAAAQOEGekAAAABACgd6QA==\"},\"shape\":[107],\"dtype\":\"float64\",\"order\":\"little\"}]]}}},\"view\":{\"type\":\"object\",\"name\":\"CDSView\",\"id\":\"p2813\",\"attributes\":{\"filter\":{\"type\":\"object\",\"name\":\"AllIndices\",\"id\":\"p2814\"}}},\"glyph\":{\"type\":\"object\",\"name\":\"Line\",\"id\":\"p2809\",\"attributes\":{\"x\":{\"type\":\"field\",\"field\":\"index\"},\"y\":{\"type\":\"field\",\"field\":\"equity\"},\"line_color\":\"#1f77b4\",\"line_width\":1.5}},\"nonselection_glyph\":{\"type\":\"object\",\"name\":\"Line\",\"id\":\"p2810\",\"attributes\":{\"x\":{\"type\":\"field\",\"field\":\"index\"},\"y\":{\"type\":\"field\",\"field\":\"equity\"},\"line_color\":\"#1f77b4\",\"line_alpha\":0.1,\"line_width\":1.5}},\"muted_glyph\":{\"type\":\"object\",\"name\":\"Line\",\"id\":\"p2811\",\"attributes\":{\"x\":{\"type\":\"field\",\"field\":\"index\"},\"y\":{\"type\":\"field\",\"field\":\"equity\"},\"line_color\":\"#1f77b4\",\"line_alpha\":0.2,\"line_width\":1.5}}}}],\"tooltips\":[[\"Date\",\"@datetime{%c}\"],[\"Equity\",\"@equity{+0,0.[000]%}\"]],\"formatters\":{\"type\":\"map\",\"entries\":[[\"@datetime\",\"datetime\"]]},\"mode\":\"vline\",\"point_policy\":\"follow_mouse\"}},{\"type\":\"object\",\"name\":\"HoverTool\",\"id\":\"p2910\",\"attributes\":{\"renderers\":[{\"type\":\"object\",\"name\":\"GlyphRenderer\",\"id\":\"p2898\",\"attributes\":{\"data_source\":{\"type\":\"object\",\"name\":\"ColumnDataSource\",\"id\":\"p2753\",\"attributes\":{\"selected\":{\"type\":\"object\",\"name\":\"Selection\",\"id\":\"p2754\",\"attributes\":{\"indices\":[],\"line_indices\":[]}},\"selection_policy\":{\"type\":\"object\",\"name\":\"UnionRenderers\",\"id\":\"p2755\"},\"data\":{\"type\":\"map\",\"entries\":[[\"index\",{\"type\":\"ndarray\",\"array\":{\"type\":\"bytes\",\"data\":\"agAAAA==\"},\"shape\":[1],\"dtype\":\"int32\",\"order\":\"little\"}],[\"datetime\",{\"type\":\"ndarray\",\"array\":{\"type\":\"bytes\",\"data\":\"AACAugj+eEI=\"},\"shape\":[1],\"dtype\":\"float64\",\"order\":\"little\"}],[\"exit_price\",{\"type\":\"ndarray\",\"array\":{\"type\":\"bytes\",\"data\":\"AAAAQOHGeUA=\"},\"shape\":[1],\"dtype\":\"float64\",\"order\":\"little\"}],[\"size\",{\"type\":\"ndarray\",\"array\":{\"type\":\"bytes\",\"data\":\"GgAAAA==\"},\"shape\":[1],\"dtype\":\"int32\",\"order\":\"little\"}],[\"returns_positive\",{\"type\":\"ndarray\",\"array\":[\"1\"],\"shape\":[1],\"dtype\":\"object\",\"order\":\"little\"}],[\"returns_long\",{\"type\":\"ndarray\",\"array\":{\"type\":\"bytes\",\"data\":\"oBfyh1bXvD8=\"},\"shape\":[1],\"dtype\":\"float64\",\"order\":\"little\"}],[\"returns_short\",{\"type\":\"ndarray\",\"array\":{\"type\":\"bytes\",\"data\":\"AAAAAAAA+H8=\"},\"shape\":[1],\"dtype\":\"float64\",\"order\":\"little\"}],[\"marker_size\",{\"type\":\"ndarray\",\"array\":{\"type\":\"bytes\",\"data\":\"AAAAAAAANEA=\"},\"shape\":[1],\"dtype\":\"float64\",\"order\":\"little\"}],[\"position_lines_xs\",[[2,106]]],[\"position_lines_ys\",[[370.6700134277344,412.42999267578125]]]]}}},\"view\":{\"type\":\"object\",\"name\":\"CDSView\",\"id\":\"p2899\",\"attributes\":{\"filter\":{\"type\":\"object\",\"name\":\"AllIndices\",\"id\":\"p2900\"}}},\"glyph\":{\"type\":\"object\",\"name\":\"Scatter\",\"id\":\"p2895\",\"attributes\":{\"x\":{\"type\":\"field\",\"field\":\"index\"},\"y\":{\"type\":\"field\",\"field\":\"returns_long\"},\"size\":{\"type\":\"field\",\"field\":\"marker_size\"},\"fill_color\":{\"type\":\"field\",\"field\":\"returns_positive\",\"transform\":{\"type\":\"object\",\"name\":\"CategoricalColorMapper\",\"id\":\"p2757\",\"attributes\":{\"palette\":[\"tomato\",\"lime\"],\"factors\":[\"0\",\"1\"]}}},\"marker\":{\"type\":\"value\",\"value\":\"triangle\"}}},\"nonselection_glyph\":{\"type\":\"object\",\"name\":\"Scatter\",\"id\":\"p2896\",\"attributes\":{\"x\":{\"type\":\"field\",\"field\":\"index\"},\"y\":{\"type\":\"field\",\"field\":\"returns_long\"},\"size\":{\"type\":\"field\",\"field\":\"marker_size\"},\"line_alpha\":{\"type\":\"value\",\"value\":0.1},\"fill_color\":{\"type\":\"field\",\"field\":\"returns_positive\",\"transform\":{\"id\":\"p2757\"}},\"fill_alpha\":{\"type\":\"value\",\"value\":0.1},\"hatch_alpha\":{\"type\":\"value\",\"value\":0.1},\"marker\":{\"type\":\"value\",\"value\":\"triangle\"}}},\"muted_glyph\":{\"type\":\"object\",\"name\":\"Scatter\",\"id\":\"p2897\",\"attributes\":{\"x\":{\"type\":\"field\",\"field\":\"index\"},\"y\":{\"type\":\"field\",\"field\":\"returns_long\"},\"size\":{\"type\":\"field\",\"field\":\"marker_size\"},\"line_alpha\":{\"type\":\"value\",\"value\":0.2},\"fill_color\":{\"type\":\"field\",\"field\":\"returns_positive\",\"transform\":{\"id\":\"p2757\"}},\"fill_alpha\":{\"type\":\"value\",\"value\":0.2},\"hatch_alpha\":{\"type\":\"value\",\"value\":0.2},\"marker\":{\"type\":\"value\",\"value\":\"triangle\"}}}}}],\"tooltips\":[[\"Date\",\"@datetime{%c}\"],[\"Size\",\"@size{0,0}\"],[\"P/L\",\"@returns_long{+0.[000]%}\"]],\"formatters\":{\"type\":\"map\",\"entries\":[[\"@datetime\",\"datetime\"]]},\"point_policy\":\"follow_mouse\"}},{\"type\":\"object\",\"name\":\"HoverTool\",\"id\":\"p2911\",\"attributes\":{\"renderers\":[{\"type\":\"object\",\"name\":\"GlyphRenderer\",\"id\":\"p2907\",\"attributes\":{\"data_source\":{\"id\":\"p2753\"},\"view\":{\"type\":\"object\",\"name\":\"CDSView\",\"id\":\"p2908\",\"attributes\":{\"filter\":{\"type\":\"object\",\"name\":\"AllIndices\",\"id\":\"p2909\"}}},\"glyph\":{\"type\":\"object\",\"name\":\"Scatter\",\"id\":\"p2904\",\"attributes\":{\"x\":{\"type\":\"field\",\"field\":\"index\"},\"y\":{\"type\":\"field\",\"field\":\"returns_short\"},\"size\":{\"type\":\"field\",\"field\":\"marker_size\"},\"fill_color\":{\"type\":\"field\",\"field\":\"returns_positive\",\"transform\":{\"id\":\"p2757\"}},\"marker\":{\"type\":\"value\",\"value\":\"inverted_triangle\"}}},\"nonselection_glyph\":{\"type\":\"object\",\"name\":\"Scatter\",\"id\":\"p2905\",\"attributes\":{\"x\":{\"type\":\"field\",\"field\":\"index\"},\"y\":{\"type\":\"field\",\"field\":\"returns_short\"},\"size\":{\"type\":\"field\",\"field\":\"marker_size\"},\"line_alpha\":{\"type\":\"value\",\"value\":0.1},\"fill_color\":{\"type\":\"field\",\"field\":\"returns_positive\",\"transform\":{\"id\":\"p2757\"}},\"fill_alpha\":{\"type\":\"value\",\"value\":0.1},\"hatch_alpha\":{\"type\":\"value\",\"value\":0.1},\"marker\":{\"type\":\"value\",\"value\":\"inverted_triangle\"}}},\"muted_glyph\":{\"type\":\"object\",\"name\":\"Scatter\",\"id\":\"p2906\",\"attributes\":{\"x\":{\"type\":\"field\",\"field\":\"index\"},\"y\":{\"type\":\"field\",\"field\":\"returns_short\"},\"size\":{\"type\":\"field\",\"field\":\"marker_size\"},\"line_alpha\":{\"type\":\"value\",\"value\":0.2},\"fill_color\":{\"type\":\"field\",\"field\":\"returns_positive\",\"transform\":{\"id\":\"p2757\"}},\"fill_alpha\":{\"type\":\"value\",\"value\":0.2},\"hatch_alpha\":{\"type\":\"value\",\"value\":0.2},\"marker\":{\"type\":\"value\",\"value\":\"inverted_triangle\"}}}}}],\"tooltips\":[[\"Date\",\"@datetime{%c}\"],[\"Size\",\"@size{0,0}\"],[\"P/L\",\"@returns_short{+0.[000]%}\"]],\"formatters\":{\"type\":\"map\",\"entries\":[[\"@datetime\",\"datetime\"]]},\"point_policy\":\"follow_mouse\"}},{\"type\":\"object\",\"name\":\"HoverTool\",\"id\":\"p3018\",\"attributes\":{\"renderers\":[{\"type\":\"object\",\"name\":\"GlyphRenderer\",\"id\":\"p2994\",\"attributes\":{\"data_source\":{\"id\":\"p2750\"},\"view\":{\"type\":\"object\",\"name\":\"CDSView\",\"id\":\"p2995\",\"attributes\":{\"filter\":{\"type\":\"object\",\"name\":\"AllIndices\",\"id\":\"p2996\"}}},\"glyph\":{\"type\":\"object\",\"name\":\"VBar\",\"id\":\"p2991\",\"attributes\":{\"x\":{\"type\":\"field\",\"field\":\"index\"},\"width\":{\"type\":\"value\",\"value\":0.8},\"bottom\":{\"type\":\"field\",\"field\":\"Close\"},\"top\":{\"type\":\"field\",\"field\":\"Open\"},\"fill_color\":{\"type\":\"field\",\"field\":\"inc\",\"transform\":{\"type\":\"object\",\"name\":\"CategoricalColorMapper\",\"id\":\"p2756\",\"attributes\":{\"palette\":[\"tomato\",\"lime\"],\"factors\":[\"0\",\"1\"]}}}}},\"nonselection_glyph\":{\"type\":\"object\",\"name\":\"VBar\",\"id\":\"p2992\",\"attributes\":{\"x\":{\"type\":\"field\",\"field\":\"index\"},\"width\":{\"type\":\"value\",\"value\":0.8},\"bottom\":{\"type\":\"field\",\"field\":\"Close\"},\"top\":{\"type\":\"field\",\"field\":\"Open\"},\"line_alpha\":{\"type\":\"value\",\"value\":0.1},\"fill_color\":{\"type\":\"field\",\"field\":\"inc\",\"transform\":{\"id\":\"p2756\"}},\"fill_alpha\":{\"type\":\"value\",\"value\":0.1},\"hatch_alpha\":{\"type\":\"value\",\"value\":0.1}}},\"muted_glyph\":{\"type\":\"object\",\"name\":\"VBar\",\"id\":\"p2993\",\"attributes\":{\"x\":{\"type\":\"field\",\"field\":\"index\"},\"width\":{\"type\":\"value\",\"value\":0.8},\"bottom\":{\"type\":\"field\",\"field\":\"Close\"},\"top\":{\"type\":\"field\",\"field\":\"Open\"},\"line_alpha\":{\"type\":\"value\",\"value\":0.2},\"fill_color\":{\"type\":\"field\",\"field\":\"inc\",\"transform\":{\"id\":\"p2756\"}},\"fill_alpha\":{\"type\":\"value\",\"value\":0.2},\"hatch_alpha\":{\"type\":\"value\",\"value\":0.2}}}}}],\"tooltips\":[[\"Date\",\"@datetime{%c}\"],[\"x, y\",\"$index\\u00a0\\u00a0\\u00a0\\u00a0$y{0,0.0[0000]}\"],[\"OHLC\",\"@Open{0,0.0[0000]}\\u00a0\\u00a0\\u00a0\\u00a0@High{0,0.0[0000]}\\u00a0\\u00a0\\u00a0\\u00a0@Low{0,0.0[0000]}\\u00a0\\u00a0\\u00a0\\u00a0@Close{0,0.0[0000]}\"],[\"Volume\",\"@Volume{0,0}\"],[\"\\u03bb\",\"@{\\u03bb_0_1}{0,0.0[0000]}\"]],\"formatters\":{\"type\":\"map\",\"entries\":[[\"@datetime\",\"datetime\"]]},\"mode\":\"vline\",\"point_policy\":\"follow_mouse\"}},{\"type\":\"object\",\"name\":\"HoverTool\",\"id\":\"p2955\",\"attributes\":{\"renderers\":[{\"type\":\"object\",\"name\":\"GlyphRenderer\",\"id\":\"p2952\",\"attributes\":{\"data_source\":{\"id\":\"p2750\"},\"view\":{\"type\":\"object\",\"name\":\"CDSView\",\"id\":\"p2953\",\"attributes\":{\"filter\":{\"type\":\"object\",\"name\":\"AllIndices\",\"id\":\"p2954\"}}},\"glyph\":{\"type\":\"object\",\"name\":\"VBar\",\"id\":\"p2949\",\"attributes\":{\"x\":{\"type\":\"field\",\"field\":\"index\"},\"width\":{\"type\":\"value\",\"value\":0.8},\"top\":{\"type\":\"field\",\"field\":\"Volume\"},\"line_color\":{\"type\":\"field\",\"field\":\"inc\",\"transform\":{\"id\":\"p2756\"}},\"fill_color\":{\"type\":\"field\",\"field\":\"inc\",\"transform\":{\"id\":\"p2756\"}},\"hatch_color\":{\"type\":\"field\",\"field\":\"inc\",\"transform\":{\"id\":\"p2756\"}}}},\"nonselection_glyph\":{\"type\":\"object\",\"name\":\"VBar\",\"id\":\"p2950\",\"attributes\":{\"x\":{\"type\":\"field\",\"field\":\"index\"},\"width\":{\"type\":\"value\",\"value\":0.8},\"top\":{\"type\":\"field\",\"field\":\"Volume\"},\"line_color\":{\"type\":\"field\",\"field\":\"inc\",\"transform\":{\"id\":\"p2756\"}},\"line_alpha\":{\"type\":\"value\",\"value\":0.1},\"fill_color\":{\"type\":\"field\",\"field\":\"inc\",\"transform\":{\"id\":\"p2756\"}},\"fill_alpha\":{\"type\":\"value\",\"value\":0.1},\"hatch_color\":{\"type\":\"field\",\"field\":\"inc\",\"transform\":{\"id\":\"p2756\"}},\"hatch_alpha\":{\"type\":\"value\",\"value\":0.1}}},\"muted_glyph\":{\"type\":\"object\",\"name\":\"VBar\",\"id\":\"p2951\",\"attributes\":{\"x\":{\"type\":\"field\",\"field\":\"index\"},\"width\":{\"type\":\"value\",\"value\":0.8},\"top\":{\"type\":\"field\",\"field\":\"Volume\"},\"line_color\":{\"type\":\"field\",\"field\":\"inc\",\"transform\":{\"id\":\"p2756\"}},\"line_alpha\":{\"type\":\"value\",\"value\":0.2},\"fill_color\":{\"type\":\"field\",\"field\":\"inc\",\"transform\":{\"id\":\"p2756\"}},\"fill_alpha\":{\"type\":\"value\",\"value\":0.2},\"hatch_color\":{\"type\":\"field\",\"field\":\"inc\",\"transform\":{\"id\":\"p2756\"}},\"hatch_alpha\":{\"type\":\"value\",\"value\":0.2}}}}}],\"tooltips\":[[\"Date\",\"@datetime{%c}\"],[\"Volume\",\"@Volume{0.00 a}\"]],\"formatters\":{\"type\":\"map\",\"entries\":[[\"@datetime\",\"datetime\"]]},\"mode\":\"vline\",\"point_policy\":\"follow_mouse\"}},{\"type\":\"object\",\"name\":\"ToolProxy\",\"id\":\"p3028\",\"attributes\":{\"tools\":[{\"type\":\"object\",\"name\":\"CrosshairTool\",\"id\":\"p3020\"},{\"id\":\"p3020\"},{\"id\":\"p3020\"},{\"id\":\"p3020\"}]}}],\"active_drag\":{\"id\":\"p2934\"},\"active_scroll\":{\"id\":\"p2935\"}}},\"toolbar_location\":\"right\",\"children\":[[{\"type\":\"object\",\"name\":\"Figure\",\"id\":\"p2761\",\"attributes\":{\"width\":null,\"height\":110,\"sizing_mode\":\"stretch_width\",\"x_range\":{\"type\":\"object\",\"name\":\"Range1d\",\"id\":\"p2716\",\"attributes\":{\"js_property_callbacks\":{\"type\":\"map\",\"entries\":[[\"change:end\",[{\"type\":\"object\",\"name\":\"CustomJS\",\"id\":\"p3019\",\"attributes\":{\"args\":{\"type\":\"map\",\"entries\":[[\"ohlc_range\",{\"type\":\"object\",\"name\":\"DataRange1d\",\"id\":\"p2719\"}],[\"source\",{\"id\":\"p2750\"}],[\"volume_range\",{\"type\":\"object\",\"name\":\"DataRange1d\",\"id\":\"p2915\"}]]},\"code\":\"if (!window._bt_scale_range) {\\n    window._bt_scale_range = function (range, min, max, pad) {\\n        \\\"use strict\\\";\\n        if (min !== Infinity && max !== -Infinity) {\\n            pad = pad ? (max - min) * .03 : 0;\\n            range.start = min - pad;\\n            range.end = max + pad;\\n        } else console.error('backtesting: scale range error:', min, max, range);\\n    };\\n}\\n\\nclearTimeout(window._bt_autoscale_timeout);\\n\\nwindow._bt_autoscale_timeout = setTimeout(function () {\\n    /**\\n     * @variable cb_obj `fig_ohlc.x_range`.\\n     * @variable source `ColumnDataSource`\\n     * @variable ohlc_range `fig_ohlc.y_range`.\\n     * @variable volume_range `fig_volume.y_range`.\\n     */\\n    \\\"use strict\\\";\\n\\n    let i = Math.max(Math.floor(cb_obj.start), 0),\\n        j = Math.min(Math.ceil(cb_obj.end), source.data['ohlc_high'].length);\\n\\n    let max = Math.max.apply(null, source.data['ohlc_high'].slice(i, j)),\\n        min = Math.min.apply(null, source.data['ohlc_low'].slice(i, j));\\n    _bt_scale_range(ohlc_range, min, max, true);\\n\\n    if (volume_range) {\\n        max = Math.max.apply(null, source.data['Volume'].slice(i, j));\\n        _bt_scale_range(volume_range, 0, max * 1.03, false);\\n    }\\n\\n}, 50);\\n\"}}]]]},\"end\":106,\"bounds\":[-5.3,111.3],\"min_interval\":10}},\"y_range\":{\"type\":\"object\",\"name\":\"DataRange1d\",\"id\":\"p2763\"},\"x_scale\":{\"type\":\"object\",\"name\":\"LinearScale\",\"id\":\"p2770\"},\"y_scale\":{\"type\":\"object\",\"name\":\"LinearScale\",\"id\":\"p2771\"},\"title\":{\"type\":\"object\",\"name\":\"Title\",\"id\":\"p2768\"},\"outline_line_color\":\"#666666\",\"renderers\":[{\"type\":\"object\",\"name\":\"GlyphRenderer\",\"id\":\"p2803\",\"attributes\":{\"data_source\":{\"type\":\"object\",\"name\":\"ColumnDataSource\",\"id\":\"p2794\",\"attributes\":{\"selected\":{\"type\":\"object\",\"name\":\"Selection\",\"id\":\"p2795\",\"attributes\":{\"indices\":[],\"line_indices\":[]}},\"selection_policy\":{\"type\":\"object\",\"name\":\"UnionRenderers\",\"id\":\"p2796\"},\"data\":{\"type\":\"map\",\"entries\":[[\"index\",{\"type\":\"ndarray\",\"array\":{\"type\":\"bytes\",\"data\":\"AAAAAAEAAAACAAAAAwAAAAQAAAAFAAAABgAAAAcAAAAIAAAACQAAAAoAAAALAAAADAAAAA0AAAAOAAAADwAAABAAAAARAAAAEgAAABMAAAAUAAAAFQAAABYAAAAXAAAAGAAAABkAAAAaAAAAGwAAABwAAAAdAAAAHgAAAB8AAAAgAAAAIQAAACIAAAAjAAAAJAAAACUAAAAmAAAAJwAAACgAAAApAAAAKgAAACsAAAAsAAAALQAAAC4AAAAvAAAAMAAAADEAAAAyAAAAMwAAADQAAAA1AAAANgAAADcAAAA4AAAAOQAAADoAAAA7AAAAPAAAAD0AAAA+AAAAPwAAAEAAAABBAAAAQgAAAEMAAABEAAAARQAAAEYAAABHAAAASAAAAEkAAABKAAAASwAAAEwAAABNAAAATgAAAE8AAABQAAAAUQAAAFIAAABTAAAAVAAAAFUAAABWAAAAVwAAAFgAAABZAAAAWgAAAFsAAABcAAAAXQAAAF4AAABfAAAAYAAAAGEAAABiAAAAYwAAAGQAAABlAAAAZgAAAGcAAABoAAAAaQAAAGoAAABqAAAAaQAAAGgAAABnAAAAZgAAAGUAAABkAAAAYwAAAGIAAABhAAAAYAAAAF8AAABeAAAAXQAAAFwAAABbAAAAWgAAAFkAAABYAAAAVwAAAFYAAABVAAAAVAAAAFMAAABSAAAAUQAAAFAAAABPAAAATgAAAE0AAABMAAAASwAAAEoAAABJAAAASAAAAEcAAABGAAAARQAAAEQAAABDAAAAQgAAAEEAAABAAAAAPwAAAD4AAAA9AAAAPAAAADsAAAA6AAAAOQAAADgAAAA3AAAANgAAADUAAAA0AAAAMwAAADIAAAAxAAAAMAAAAC8AAAAuAAAALQAAACwAAAArAAAAKgAAACkAAAAoAAAAJwAAACYAAAAlAAAAJAAAACMAAAAiAAAAIQAAACAAAAAfAAAAHgAAAB0AAAAcAAAAGwAAABoAAAAZAAAAGAAAABcAAAAWAAAAFQAAABQAAAATAAAAEgAAABEAAAAQAAAADwAAAA4AAAANAAAADAAAAAsAAAAKAAAACQAAAAgAAAAHAAAABgAAAAUAAAAEAAAAAwAAAAIAAAABAAAAAAAAAA==\"},\"shape\":[214],\"dtype\":\"int32\",\"order\":\"little\"}],[\"equity_dd\",{\"type\":\"ndarray\",\"array\":{\"type\":\"bytes\",\"data\":\"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\"},\"shape\":[214],\"dtype\":\"float64\",\"order\":\"little\"}]]}}},\"view\":{\"type\":\"object\",\"name\":\"CDSView\",\"id\":\"p2804\",\"attributes\":{\"filter\":{\"type\":\"object\",\"name\":\"AllIndices\",\"id\":\"p2805\"}}},\"glyph\":{\"type\":\"object\",\"name\":\"Patch\",\"id\":\"p2800\",\"attributes\":{\"x\":{\"type\":\"field\",\"field\":\"index\"},\"y\":{\"type\":\"field\",\"field\":\"equity_dd\"},\"line_color\":\"#ffcb66\",\"fill_color\":\"#ffffea\"}},\"nonselection_glyph\":{\"type\":\"object\",\"name\":\"Patch\",\"id\":\"p2801\",\"attributes\":{\"x\":{\"type\":\"field\",\"field\":\"index\"},\"y\":{\"type\":\"field\",\"field\":\"equity_dd\"},\"line_color\":\"#ffcb66\",\"line_alpha\":0.1,\"fill_color\":\"#ffffea\",\"fill_alpha\":0.1,\"hatch_alpha\":0.1}},\"muted_glyph\":{\"type\":\"object\",\"name\":\"Patch\",\"id\":\"p2802\",\"attributes\":{\"x\":{\"type\":\"field\",\"field\":\"index\"},\"y\":{\"type\":\"field\",\"field\":\"equity_dd\"},\"line_color\":\"#ffcb66\",\"line_alpha\":0.2,\"fill_color\":\"#ffffea\",\"fill_alpha\":0.2,\"hatch_alpha\":0.2}}}},{\"id\":\"p2812\"},{\"type\":\"object\",\"name\":\"GlyphRenderer\",\"id\":\"p2823\",\"attributes\":{\"data_source\":{\"type\":\"object\",\"name\":\"ColumnDataSource\",\"id\":\"p2817\",\"attributes\":{\"selected\":{\"type\":\"object\",\"name\":\"Selection\",\"id\":\"p2818\",\"attributes\":{\"indices\":[],\"line_indices\":[]}},\"selection_policy\":{\"type\":\"object\",\"name\":\"UnionRenderers\",\"id\":\"p2819\"},\"data\":{\"type\":\"map\"}}},\"view\":{\"type\":\"object\",\"name\":\"CDSView\",\"id\":\"p2824\",\"attributes\":{\"filter\":{\"type\":\"object\",\"name\":\"AllIndices\",\"id\":\"p2825\"}}},\"glyph\":{\"type\":\"object\",\"name\":\"Scatter\",\"id\":\"p2820\",\"attributes\":{\"x\":{\"type\":\"value\",\"value\":98},\"y\":{\"type\":\"value\",\"value\":1.1556099365234376},\"size\":{\"type\":\"value\",\"value\":8},\"line_color\":{\"type\":\"value\",\"value\":\"cyan\"},\"fill_color\":{\"type\":\"value\",\"value\":\"cyan\"},\"hatch_color\":{\"type\":\"value\",\"value\":\"cyan\"}}},\"nonselection_glyph\":{\"type\":\"object\",\"name\":\"Scatter\",\"id\":\"p2821\",\"attributes\":{\"x\":{\"type\":\"value\",\"value\":98},\"y\":{\"type\":\"value\",\"value\":1.1556099365234376},\"size\":{\"type\":\"value\",\"value\":8},\"line_color\":{\"type\":\"value\",\"value\":\"cyan\"},\"line_alpha\":{\"type\":\"value\",\"value\":0.1},\"fill_color\":{\"type\":\"value\",\"value\":\"cyan\"},\"fill_alpha\":{\"type\":\"value\",\"value\":0.1},\"hatch_color\":{\"type\":\"value\",\"value\":\"cyan\"},\"hatch_alpha\":{\"type\":\"value\",\"value\":0.1}}},\"muted_glyph\":{\"type\":\"object\",\"name\":\"Scatter\",\"id\":\"p2822\",\"attributes\":{\"x\":{\"type\":\"value\",\"value\":98},\"y\":{\"type\":\"value\",\"value\":1.1556099365234376},\"size\":{\"type\":\"value\",\"value\":8},\"line_color\":{\"type\":\"value\",\"value\":\"cyan\"},\"line_alpha\":{\"type\":\"value\",\"value\":0.2},\"fill_color\":{\"type\":\"value\",\"value\":\"cyan\"},\"fill_alpha\":{\"type\":\"value\",\"value\":0.2},\"hatch_color\":{\"type\":\"value\",\"value\":\"cyan\"},\"hatch_alpha\":{\"type\":\"value\",\"value\":0.2}}}}},{\"type\":\"object\",\"name\":\"GlyphRenderer\",\"id\":\"p2834\",\"attributes\":{\"data_source\":{\"type\":\"object\",\"name\":\"ColumnDataSource\",\"id\":\"p2828\",\"attributes\":{\"selected\":{\"type\":\"object\",\"name\":\"Selection\",\"id\":\"p2829\",\"attributes\":{\"indices\":[],\"line_indices\":[]}},\"selection_policy\":{\"type\":\"object\",\"name\":\"UnionRenderers\",\"id\":\"p2830\"},\"data\":{\"type\":\"map\"}}},\"view\":{\"type\":\"object\",\"name\":\"CDSView\",\"id\":\"p2835\",\"attributes\":{\"filter\":{\"type\":\"object\",\"name\":\"AllIndices\",\"id\":\"p2836\"}}},\"glyph\":{\"type\":\"object\",\"name\":\"Scatter\",\"id\":\"p2831\",\"attributes\":{\"x\":{\"type\":\"value\",\"value\":106},\"y\":{\"type\":\"value\",\"value\":1.1180399841308595},\"size\":{\"type\":\"value\",\"value\":8},\"line_color\":{\"type\":\"value\",\"value\":\"blue\"},\"fill_color\":{\"type\":\"value\",\"value\":\"blue\"},\"hatch_color\":{\"type\":\"value\",\"value\":\"blue\"}}},\"nonselection_glyph\":{\"type\":\"object\",\"name\":\"Scatter\",\"id\":\"p2832\",\"attributes\":{\"x\":{\"type\":\"value\",\"value\":106},\"y\":{\"type\":\"value\",\"value\":1.1180399841308595},\"size\":{\"type\":\"value\",\"value\":8},\"line_color\":{\"type\":\"value\",\"value\":\"blue\"},\"line_alpha\":{\"type\":\"value\",\"value\":0.1},\"fill_color\":{\"type\":\"value\",\"value\":\"blue\"},\"fill_alpha\":{\"type\":\"value\",\"value\":0.1},\"hatch_color\":{\"type\":\"value\",\"value\":\"blue\"},\"hatch_alpha\":{\"type\":\"value\",\"value\":0.1}}},\"muted_glyph\":{\"type\":\"object\",\"name\":\"Scatter\",\"id\":\"p2833\",\"attributes\":{\"x\":{\"type\":\"value\",\"value\":106},\"y\":{\"type\":\"value\",\"value\":1.1180399841308595},\"size\":{\"type\":\"value\",\"value\":8},\"line_color\":{\"type\":\"value\",\"value\":\"blue\"},\"line_alpha\":{\"type\":\"value\",\"value\":0.2},\"fill_color\":{\"type\":\"value\",\"value\":\"blue\"},\"fill_alpha\":{\"type\":\"value\",\"value\":0.2},\"hatch_color\":{\"type\":\"value\",\"value\":\"blue\"},\"hatch_alpha\":{\"type\":\"value\",\"value\":0.2}}}}},{\"type\":\"object\",\"name\":\"GlyphRenderer\",\"id\":\"p2844\",\"attributes\":{\"data_source\":{\"type\":\"object\",\"name\":\"ColumnDataSource\",\"id\":\"p2838\",\"attributes\":{\"selected\":{\"type\":\"object\",\"name\":\"Selection\",\"id\":\"p2839\",\"attributes\":{\"indices\":[],\"line_indices\":[]}},\"selection_policy\":{\"type\":\"object\",\"name\":\"UnionRenderers\",\"id\":\"p2840\"},\"data\":{\"type\":\"map\"}}},\"view\":{\"type\":\"object\",\"name\":\"CDSView\",\"id\":\"p2845\",\"attributes\":{\"filter\":{\"type\":\"object\",\"name\":\"AllIndices\",\"id\":\"p2846\"}}},\"glyph\":{\"type\":\"object\",\"name\":\"Scatter\",\"id\":\"p2841\",\"attributes\":{\"x\":{\"type\":\"value\",\"value\":82},\"y\":{\"type\":\"value\",\"value\":1.0485159301757812},\"size\":{\"type\":\"value\",\"value\":8},\"line_color\":{\"type\":\"value\",\"value\":\"red\"},\"fill_color\":{\"type\":\"value\",\"value\":\"red\"},\"hatch_color\":{\"type\":\"value\",\"value\":\"red\"}}},\"nonselection_glyph\":{\"type\":\"object\",\"name\":\"Scatter\",\"id\":\"p2842\",\"attributes\":{\"x\":{\"type\":\"value\",\"value\":82},\"y\":{\"type\":\"value\",\"value\":1.0485159301757812},\"size\":{\"type\":\"value\",\"value\":8},\"line_color\":{\"type\":\"value\",\"value\":\"red\"},\"line_alpha\":{\"type\":\"value\",\"value\":0.1},\"fill_color\":{\"type\":\"value\",\"value\":\"red\"},\"fill_alpha\":{\"type\":\"value\",\"value\":0.1},\"hatch_color\":{\"type\":\"value\",\"value\":\"red\"},\"hatch_alpha\":{\"type\":\"value\",\"value\":0.1}}},\"muted_glyph\":{\"type\":\"object\",\"name\":\"Scatter\",\"id\":\"p2843\",\"attributes\":{\"x\":{\"type\":\"value\",\"value\":82},\"y\":{\"type\":\"value\",\"value\":1.0485159301757812},\"size\":{\"type\":\"value\",\"value\":8},\"line_color\":{\"type\":\"value\",\"value\":\"red\"},\"line_alpha\":{\"type\":\"value\",\"value\":0.2},\"fill_color\":{\"type\":\"value\",\"value\":\"red\"},\"fill_alpha\":{\"type\":\"value\",\"value\":0.2},\"hatch_color\":{\"type\":\"value\",\"value\":\"red\"},\"hatch_alpha\":{\"type\":\"value\",\"value\":0.2}}}}},{\"type\":\"object\",\"name\":\"GlyphRenderer\",\"id\":\"p2854\",\"attributes\":{\"data_source\":{\"type\":\"object\",\"name\":\"ColumnDataSource\",\"id\":\"p2848\",\"attributes\":{\"selected\":{\"type\":\"object\",\"name\":\"Selection\",\"id\":\"p2849\",\"attributes\":{\"indices\":[],\"line_indices\":[]}},\"selection_policy\":{\"type\":\"object\",\"name\":\"UnionRenderers\",\"id\":\"p2850\"},\"data\":{\"type\":\"map\",\"entries\":[[\"x\",[55,97.22296684262619]]]}}},\"view\":{\"type\":\"object\",\"name\":\"CDSView\",\"id\":\"p2855\",\"attributes\":{\"filter\":{\"type\":\"object\",\"name\":\"AllIndices\",\"id\":\"p2856\"}}},\"glyph\":{\"type\":\"object\",\"name\":\"Line\",\"id\":\"p2851\",\"attributes\":{\"x\":{\"type\":\"field\",\"field\":\"x\"},\"y\":{\"type\":\"value\",\"value\":1.1526199523925782},\"line_color\":\"red\",\"line_width\":2}},\"nonselection_glyph\":{\"type\":\"object\",\"name\":\"Line\",\"id\":\"p2852\",\"attributes\":{\"x\":{\"type\":\"field\",\"field\":\"x\"},\"y\":{\"type\":\"value\",\"value\":1.1526199523925782},\"line_color\":\"red\",\"line_alpha\":0.1,\"line_width\":2}},\"muted_glyph\":{\"type\":\"object\",\"name\":\"Line\",\"id\":\"p2853\",\"attributes\":{\"x\":{\"type\":\"field\",\"field\":\"x\"},\"y\":{\"type\":\"value\",\"value\":1.1526199523925782},\"line_color\":\"red\",\"line_alpha\":0.2,\"line_width\":2}}}}],\"toolbar\":{\"type\":\"object\",\"name\":\"Toolbar\",\"id\":\"p2769\",\"attributes\":{\"tools\":[{\"id\":\"p2782\"},{\"id\":\"p2783\"},{\"id\":\"p2784\"},{\"id\":\"p2790\"},{\"id\":\"p2791\"},{\"id\":\"p2792\"},{\"type\":\"object\",\"name\":\"SaveTool\",\"id\":\"p2793\"},{\"id\":\"p2815\"},{\"id\":\"p3020\"}],\"active_drag\":{\"id\":\"p2782\"},\"active_scroll\":{\"id\":\"p2783\"}}},\"toolbar_location\":null,\"left\":[{\"type\":\"object\",\"name\":\"LinearAxis\",\"id\":\"p2777\",\"attributes\":{\"ticker\":{\"type\":\"object\",\"name\":\"BasicTicker\",\"id\":\"p2778\",\"attributes\":{\"mantissas\":[1,2,5]}},\"formatter\":{\"type\":\"object\",\"name\":\"NumeralTickFormatter\",\"id\":\"p2816\",\"attributes\":{\"format\":\"0,0.[00]%\"}},\"axis_label\":\"Equity\",\"major_label_policy\":{\"type\":\"object\",\"name\":\"AllLabels\",\"id\":\"p2780\"},\"minor_tick_line_color\":null}}],\"below\":[{\"type\":\"object\",\"name\":\"LinearAxis\",\"id\":\"p2772\",\"attributes\":{\"visible\":false,\"ticker\":{\"type\":\"object\",\"name\":\"BasicTicker\",\"id\":\"p2773\",\"attributes\":{\"mantissas\":[1,2,5]}},\"formatter\":{\"type\":\"object\",\"name\":\"BasicTickFormatter\",\"id\":\"p2774\"},\"major_label_policy\":{\"type\":\"object\",\"name\":\"AllLabels\",\"id\":\"p2775\"}}}],\"center\":[{\"type\":\"object\",\"name\":\"Grid\",\"id\":\"p2776\",\"attributes\":{\"axis\":{\"id\":\"p2772\"}}},{\"type\":\"object\",\"name\":\"Grid\",\"id\":\"p2781\",\"attributes\":{\"dimension\":1,\"axis\":{\"id\":\"p2777\"}}},{\"type\":\"object\",\"name\":\"Legend\",\"id\":\"p2826\",\"attributes\":{\"location\":\"top_left\",\"border_line_color\":\"#333333\",\"click_policy\":\"hide\",\"label_text_font_size\":\"8pt\",\"margin\":0,\"padding\":5,\"spacing\":0,\"items\":[{\"type\":\"object\",\"name\":\"LegendItem\",\"id\":\"p2827\",\"attributes\":{\"label\":{\"type\":\"value\",\"value\":\"Peak (116%)\"},\"renderers\":[{\"id\":\"p2823\"}]}},{\"type\":\"object\",\"name\":\"LegendItem\",\"id\":\"p2837\",\"attributes\":{\"label\":{\"type\":\"value\",\"value\":\"Final (112%)\"},\"renderers\":[{\"id\":\"p2834\"}]}},{\"type\":\"object\",\"name\":\"LegendItem\",\"id\":\"p2847\",\"attributes\":{\"label\":{\"type\":\"value\",\"value\":\"Max Drawdown (-9.0%)\"},\"renderers\":[{\"id\":\"p2844\"}]}},{\"type\":\"object\",\"name\":\"LegendItem\",\"id\":\"p2857\",\"attributes\":{\"label\":{\"type\":\"value\",\"value\":\"Max Dd Dur. (61 days)\"},\"renderers\":[{\"id\":\"p2854\"}]}}]}}],\"min_border_top\":3,\"min_border_bottom\":6,\"min_border_left\":0,\"min_border_right\":10}},0,0],[{\"type\":\"object\",\"name\":\"Figure\",\"id\":\"p2858\",\"attributes\":{\"width\":null,\"height\":90,\"sizing_mode\":\"stretch_width\",\"x_range\":{\"id\":\"p2716\"},\"y_range\":{\"type\":\"object\",\"name\":\"DataRange1d\",\"id\":\"p2860\"},\"x_scale\":{\"type\":\"object\",\"name\":\"LinearScale\",\"id\":\"p2867\"},\"y_scale\":{\"type\":\"object\",\"name\":\"LinearScale\",\"id\":\"p2868\"},\"title\":{\"type\":\"object\",\"name\":\"Title\",\"id\":\"p2865\"},\"outline_line_color\":\"#666666\",\"renderers\":[{\"id\":\"p2898\"},{\"id\":\"p2907\"}],\"toolbar\":{\"type\":\"object\",\"name\":\"Toolbar\",\"id\":\"p2866\",\"attributes\":{\"tools\":[{\"id\":\"p2879\"},{\"id\":\"p2880\"},{\"id\":\"p2881\"},{\"id\":\"p2887\"},{\"id\":\"p2888\"},{\"id\":\"p2889\"},{\"type\":\"object\",\"name\":\"SaveTool\",\"id\":\"p2890\"},{\"id\":\"p2910\"},{\"id\":\"p2911\"},{\"id\":\"p3020\"}],\"active_drag\":{\"id\":\"p2879\"},\"active_scroll\":{\"id\":\"p2880\"}}},\"toolbar_location\":null,\"left\":[{\"type\":\"object\",\"name\":\"LinearAxis\",\"id\":\"p2874\",\"attributes\":{\"ticker\":{\"type\":\"object\",\"name\":\"BasicTicker\",\"id\":\"p2875\",\"attributes\":{\"mantissas\":[1,2,5]}},\"formatter\":{\"type\":\"object\",\"name\":\"NumeralTickFormatter\",\"id\":\"p2912\",\"attributes\":{\"format\":\"0.[00]%\"}},\"axis_label\":\"Profit / Loss\",\"major_label_policy\":{\"type\":\"object\",\"name\":\"AllLabels\",\"id\":\"p2877\"},\"minor_tick_line_color\":null}}],\"below\":[{\"type\":\"object\",\"name\":\"LinearAxis\",\"id\":\"p2869\",\"attributes\":{\"visible\":false,\"ticker\":{\"type\":\"object\",\"name\":\"BasicTicker\",\"id\":\"p2870\",\"attributes\":{\"mantissas\":[1,2,5]}},\"formatter\":{\"type\":\"object\",\"name\":\"BasicTickFormatter\",\"id\":\"p2871\"},\"major_label_policy\":{\"type\":\"object\",\"name\":\"AllLabels\",\"id\":\"p2872\"}}}],\"center\":[{\"type\":\"object\",\"name\":\"Grid\",\"id\":\"p2873\",\"attributes\":{\"axis\":{\"id\":\"p2869\"}}},{\"type\":\"object\",\"name\":\"Grid\",\"id\":\"p2878\",\"attributes\":{\"dimension\":1,\"axis\":{\"id\":\"p2874\"}}},{\"type\":\"object\",\"name\":\"Span\",\"id\":\"p2891\",\"attributes\":{\"location\":0,\"line_color\":\"#666666\",\"line_dash\":[6]}}],\"min_border_top\":3,\"min_border_bottom\":6,\"min_border_left\":0,\"min_border_right\":10}},1,0],[{\"type\":\"object\",\"name\":\"Figure\",\"id\":\"p2717\",\"attributes\":{\"width\":null,\"height\":400,\"sizing_mode\":\"stretch_width\",\"x_range\":{\"id\":\"p2716\"},\"y_range\":{\"id\":\"p2719\"},\"x_scale\":{\"type\":\"object\",\"name\":\"LinearScale\",\"id\":\"p2726\"},\"y_scale\":{\"type\":\"object\",\"name\":\"LinearScale\",\"id\":\"p2727\"},\"title\":{\"type\":\"object\",\"name\":\"Title\",\"id\":\"p2724\"},\"outline_line_color\":\"#666666\",\"renderers\":[{\"type\":\"object\",\"name\":\"GlyphRenderer\",\"id\":\"p2966\",\"attributes\":{\"data_source\":{\"type\":\"object\",\"name\":\"ColumnDataSource\",\"id\":\"p2957\",\"attributes\":{\"selected\":{\"type\":\"object\",\"name\":\"Selection\",\"id\":\"p2958\",\"attributes\":{\"indices\":[],\"line_indices\":[]}},\"selection_policy\":{\"type\":\"object\",\"name\":\"UnionRenderers\",\"id\":\"p2959\"},\"data\":{\"type\":\"map\",\"entries\":[[\"index\",{\"type\":\"ndarray\",\"array\":{\"type\":\"bytes\",\"data\":\"AAAAAAAAJEAAAAAAAIA+QAAAAAAAQElAAAAAAADgUUAAAAAAAGBXQAAAAAAAYFpA\"},\"shape\":[6],\"dtype\":\"float64\",\"order\":\"little\"}],[\"Open\",{\"type\":\"ndarray\",\"array\":{\"type\":\"bytes\",\"data\":\"AAAAgMJdd0AAAACgRx15QAAAAOBRtHlAAAAAQDN/ekAAAACAwol4QAAAAOB6+HlA\"},\"shape\":[6],\"dtype\":\"float64\",\"order\":\"little\"}],[\"High\",{\"type\":\"ndarray\",\"array\":{\"type\":\"bytes\",\"data\":\"AAAAwB71eUAAAADAHk16QAAAAMAe7XpAAAAAgOvVekAAAACgmRl7QAAAAEAKB3pA\"},\"shape\":[6],\"dtype\":\"float64\",\"order\":\"little\"}],[\"Low\",{\"type\":\"ndarray\",\"array\":{\"type\":\"bytes\",\"data\":\"AAAAAADodkAAAAAghdN4QAAAAIA95nhAAAAA4HpAeEAAAADA9WR4QAAAAGC4jnlA\"},\"shape\":[6],\"dtype\":\"float64\",\"order\":\"little\"}],[\"Close\",{\"type\":\"ndarray\",\"array\":{\"type\":\"bytes\",\"data\":\"AAAAoEfZeEAAAACAPdp5QAAAACCFS3pAAAAAoEdVeEAAAACAFPJ5QAAAAMAeAXpA\"},\"shape\":[6],\"dtype\":\"float64\",\"order\":\"little\"}],[\"Volume\",{\"type\":\"ndarray\",\"array\":{\"type\":\"bytes\",\"data\":\"mLp+H6yXeRoglGkZ5LtFGmAZqhgAvuUB\"},\"shape\":[6],\"dtype\":\"int32\",\"order\":\"little\"}],[\"_width\",{\"type\":\"ndarray\",\"array\":{\"type\":\"bytes\",\"data\":\"ZmZmZmbmNEBmZmZmZuYzQGZmZmZm5jNAZmZmZmbmNUBmZmZmZuY1QGZmZmZmZv4/\"},\"shape\":[6],\"dtype\":\"float64\",\"order\":\"little\"}],[\"inc\",{\"type\":\"ndarray\",\"array\":[\"1\",\"1\",\"1\",\"0\",\"1\",\"1\"],\"shape\":[6],\"dtype\":\"object\",\"order\":\"little\"}]]}}},\"view\":{\"type\":\"object\",\"name\":\"CDSView\",\"id\":\"p2967\",\"attributes\":{\"filter\":{\"type\":\"object\",\"name\":\"AllIndices\",\"id\":\"p2968\"}}},\"glyph\":{\"type\":\"object\",\"name\":\"Segment\",\"id\":\"p2963\",\"attributes\":{\"x0\":{\"type\":\"field\",\"field\":\"index\"},\"y0\":{\"type\":\"field\",\"field\":\"High\"},\"x1\":{\"type\":\"field\",\"field\":\"index\"},\"y1\":{\"type\":\"field\",\"field\":\"Low\"},\"line_color\":{\"type\":\"value\",\"value\":\"#bbbbbb\"}}},\"nonselection_glyph\":{\"type\":\"object\",\"name\":\"Segment\",\"id\":\"p2964\",\"attributes\":{\"x0\":{\"type\":\"field\",\"field\":\"index\"},\"y0\":{\"type\":\"field\",\"field\":\"High\"},\"x1\":{\"type\":\"field\",\"field\":\"index\"},\"y1\":{\"type\":\"field\",\"field\":\"Low\"},\"line_color\":{\"type\":\"value\",\"value\":\"#bbbbbb\"},\"line_alpha\":{\"type\":\"value\",\"value\":0.1}}},\"muted_glyph\":{\"type\":\"object\",\"name\":\"Segment\",\"id\":\"p2965\",\"attributes\":{\"x0\":{\"type\":\"field\",\"field\":\"index\"},\"y0\":{\"type\":\"field\",\"field\":\"High\"},\"x1\":{\"type\":\"field\",\"field\":\"index\"},\"y1\":{\"type\":\"field\",\"field\":\"Low\"},\"line_color\":{\"type\":\"value\",\"value\":\"#bbbbbb\"},\"line_alpha\":{\"type\":\"value\",\"value\":0.2}}}}},{\"type\":\"object\",\"name\":\"GlyphRenderer\",\"id\":\"p2976\",\"attributes\":{\"data_source\":{\"id\":\"p2957\"},\"view\":{\"type\":\"object\",\"name\":\"CDSView\",\"id\":\"p2977\",\"attributes\":{\"filter\":{\"type\":\"object\",\"name\":\"AllIndices\",\"id\":\"p2978\"}}},\"glyph\":{\"type\":\"object\",\"name\":\"VBar\",\"id\":\"p2973\",\"attributes\":{\"x\":{\"type\":\"field\",\"field\":\"index\"},\"width\":{\"type\":\"field\",\"field\":\"_width\"},\"bottom\":{\"type\":\"field\",\"field\":\"Close\"},\"top\":{\"type\":\"field\",\"field\":\"Open\"},\"line_color\":{\"type\":\"value\",\"value\":null},\"fill_color\":{\"type\":\"field\",\"field\":\"inc\",\"transform\":{\"type\":\"object\",\"name\":\"CategoricalColorMapper\",\"id\":\"p2969\",\"attributes\":{\"palette\":[\"rgb(255.0, 220.40869565217392, 214.20000000000002)\",\"rgb(214.20000000000005, 254.99999999999997, 214.20000000000005)\"],\"factors\":[\"0\",\"1\"]}}}}},\"nonselection_glyph\":{\"type\":\"object\",\"name\":\"VBar\",\"id\":\"p2974\",\"attributes\":{\"x\":{\"type\":\"field\",\"field\":\"index\"},\"width\":{\"type\":\"field\",\"field\":\"_width\"},\"bottom\":{\"type\":\"field\",\"field\":\"Close\"},\"top\":{\"type\":\"field\",\"field\":\"Open\"},\"line_color\":{\"type\":\"value\",\"value\":null},\"line_alpha\":{\"type\":\"value\",\"value\":0.1},\"fill_color\":{\"type\":\"field\",\"field\":\"inc\",\"transform\":{\"id\":\"p2969\"}},\"fill_alpha\":{\"type\":\"value\",\"value\":0.1},\"hatch_alpha\":{\"type\":\"value\",\"value\":0.1}}},\"muted_glyph\":{\"type\":\"object\",\"name\":\"VBar\",\"id\":\"p2975\",\"attributes\":{\"x\":{\"type\":\"field\",\"field\":\"index\"},\"width\":{\"type\":\"field\",\"field\":\"_width\"},\"bottom\":{\"type\":\"field\",\"field\":\"Close\"},\"top\":{\"type\":\"field\",\"field\":\"Open\"},\"line_color\":{\"type\":\"value\",\"value\":null},\"line_alpha\":{\"type\":\"value\",\"value\":0.2},\"fill_color\":{\"type\":\"field\",\"field\":\"inc\",\"transform\":{\"id\":\"p2969\"}},\"fill_alpha\":{\"type\":\"value\",\"value\":0.2},\"hatch_alpha\":{\"type\":\"value\",\"value\":0.2}}}}},{\"type\":\"object\",\"name\":\"GlyphRenderer\",\"id\":\"p2985\",\"attributes\":{\"data_source\":{\"id\":\"p2750\"},\"view\":{\"type\":\"object\",\"name\":\"CDSView\",\"id\":\"p2986\",\"attributes\":{\"filter\":{\"type\":\"object\",\"name\":\"AllIndices\",\"id\":\"p2987\"}}},\"glyph\":{\"type\":\"object\",\"name\":\"Segment\",\"id\":\"p2982\",\"attributes\":{\"x0\":{\"type\":\"field\",\"field\":\"index\"},\"y0\":{\"type\":\"field\",\"field\":\"High\"},\"x1\":{\"type\":\"field\",\"field\":\"index\"},\"y1\":{\"type\":\"field\",\"field\":\"Low\"}}},\"nonselection_glyph\":{\"type\":\"object\",\"name\":\"Segment\",\"id\":\"p2983\",\"attributes\":{\"x0\":{\"type\":\"field\",\"field\":\"index\"},\"y0\":{\"type\":\"field\",\"field\":\"High\"},\"x1\":{\"type\":\"field\",\"field\":\"index\"},\"y1\":{\"type\":\"field\",\"field\":\"Low\"},\"line_alpha\":{\"type\":\"value\",\"value\":0.1}}},\"muted_glyph\":{\"type\":\"object\",\"name\":\"Segment\",\"id\":\"p2984\",\"attributes\":{\"x0\":{\"type\":\"field\",\"field\":\"index\"},\"y0\":{\"type\":\"field\",\"field\":\"High\"},\"x1\":{\"type\":\"field\",\"field\":\"index\"},\"y1\":{\"type\":\"field\",\"field\":\"Low\"},\"line_alpha\":{\"type\":\"value\",\"value\":0.2}}}}},{\"id\":\"p2994\"},{\"type\":\"object\",\"name\":\"GlyphRenderer\",\"id\":\"p3003\",\"attributes\":{\"data_source\":{\"id\":\"p2753\"},\"view\":{\"type\":\"object\",\"name\":\"CDSView\",\"id\":\"p3004\",\"attributes\":{\"filter\":{\"type\":\"object\",\"name\":\"AllIndices\",\"id\":\"p3005\"}}},\"glyph\":{\"type\":\"object\",\"name\":\"MultiLine\",\"id\":\"p3000\",\"attributes\":{\"xs\":{\"type\":\"field\",\"field\":\"position_lines_xs\"},\"ys\":{\"type\":\"field\",\"field\":\"position_lines_ys\"},\"line_color\":{\"type\":\"field\",\"field\":\"returns_positive\",\"transform\":{\"type\":\"object\",\"name\":\"CategoricalColorMapper\",\"id\":\"p2758\",\"attributes\":{\"palette\":[\"rgb(178.5, 27.163043478260846, 0.0)\",\"rgb(0.0, 178.5, 0.0)\"],\"factors\":[\"0\",\"1\"]}}},\"line_width\":{\"type\":\"value\",\"value\":8},\"line_dash\":{\"type\":\"value\",\"value\":\"dotted\"}}},\"nonselection_glyph\":{\"type\":\"object\",\"name\":\"MultiLine\",\"id\":\"p3001\",\"attributes\":{\"xs\":{\"type\":\"field\",\"field\":\"position_lines_xs\"},\"ys\":{\"type\":\"field\",\"field\":\"position_lines_ys\"},\"line_color\":{\"type\":\"field\",\"field\":\"returns_positive\",\"transform\":{\"id\":\"p2758\"}},\"line_alpha\":{\"type\":\"value\",\"value\":0.1},\"line_width\":{\"type\":\"value\",\"value\":8},\"line_dash\":{\"type\":\"value\",\"value\":\"dotted\"}}},\"muted_glyph\":{\"type\":\"object\",\"name\":\"MultiLine\",\"id\":\"p3002\",\"attributes\":{\"xs\":{\"type\":\"field\",\"field\":\"position_lines_xs\"},\"ys\":{\"type\":\"field\",\"field\":\"position_lines_ys\"},\"line_color\":{\"type\":\"field\",\"field\":\"returns_positive\",\"transform\":{\"id\":\"p2758\"}},\"line_alpha\":{\"type\":\"value\",\"value\":0.2},\"line_width\":{\"type\":\"value\",\"value\":8},\"line_dash\":{\"type\":\"value\",\"value\":\"dotted\"}}}}},{\"type\":\"object\",\"name\":\"GlyphRenderer\",\"id\":\"p3014\",\"attributes\":{\"data_source\":{\"id\":\"p2750\"},\"view\":{\"type\":\"object\",\"name\":\"CDSView\",\"id\":\"p3015\",\"attributes\":{\"filter\":{\"type\":\"object\",\"name\":\"AllIndices\",\"id\":\"p3016\"}}},\"glyph\":{\"type\":\"object\",\"name\":\"Line\",\"id\":\"p3011\",\"attributes\":{\"x\":{\"type\":\"field\",\"field\":\"index\"},\"y\":{\"type\":\"field\",\"field\":\"\\u03bb_0_1\"},\"line_color\":\"#1f77b4\",\"line_width\":1.3}},\"nonselection_glyph\":{\"type\":\"object\",\"name\":\"Line\",\"id\":\"p3012\",\"attributes\":{\"x\":{\"type\":\"field\",\"field\":\"index\"},\"y\":{\"type\":\"field\",\"field\":\"\\u03bb_0_1\"},\"line_color\":\"#1f77b4\",\"line_alpha\":0.1,\"line_width\":1.3}},\"muted_glyph\":{\"type\":\"object\",\"name\":\"Line\",\"id\":\"p3013\",\"attributes\":{\"x\":{\"type\":\"field\",\"field\":\"index\"},\"y\":{\"type\":\"field\",\"field\":\"\\u03bb_0_1\"},\"line_color\":\"#1f77b4\",\"line_alpha\":0.2,\"line_width\":1.3}}}}],\"toolbar\":{\"type\":\"object\",\"name\":\"Toolbar\",\"id\":\"p2725\",\"attributes\":{\"tools\":[{\"id\":\"p2738\"},{\"id\":\"p2739\"},{\"id\":\"p2740\"},{\"id\":\"p2746\"},{\"id\":\"p2747\"},{\"id\":\"p2748\"},{\"type\":\"object\",\"name\":\"SaveTool\",\"id\":\"p2749\"},{\"id\":\"p3018\"},{\"id\":\"p3020\"}],\"active_drag\":{\"id\":\"p2738\"},\"active_scroll\":{\"id\":\"p2739\"}}},\"toolbar_location\":null,\"left\":[{\"type\":\"object\",\"name\":\"LinearAxis\",\"id\":\"p2733\",\"attributes\":{\"ticker\":{\"type\":\"object\",\"name\":\"BasicTicker\",\"id\":\"p2734\",\"attributes\":{\"mantissas\":[1,2,5]}},\"formatter\":{\"type\":\"object\",\"name\":\"BasicTickFormatter\",\"id\":\"p2735\"},\"major_label_policy\":{\"type\":\"object\",\"name\":\"AllLabels\",\"id\":\"p2736\"}}}],\"below\":[{\"type\":\"object\",\"name\":\"LinearAxis\",\"id\":\"p2728\",\"attributes\":{\"visible\":false,\"ticker\":{\"type\":\"object\",\"name\":\"BasicTicker\",\"id\":\"p2729\",\"attributes\":{\"mantissas\":[1,2,5]}},\"formatter\":{\"type\":\"object\",\"name\":\"CustomJSTickFormatter\",\"id\":\"p2760\",\"attributes\":{\"args\":{\"type\":\"map\",\"entries\":[[\"axis\",{\"id\":\"p2728\"}],[\"formatter\",{\"type\":\"object\",\"name\":\"DatetimeTickFormatter\",\"id\":\"p2759\",\"attributes\":{\"days\":\"%d %b\"}}],[\"source\",{\"id\":\"p2750\"}]]},\"code\":\"\\nthis.labels = this.labels || formatter.doFormat(ticks\\n                                                .map(i => source.data.datetime[i])\\n                                                .filter(t => t !== undefined));\\nreturn this.labels[index] || \\\"\\\";\\n        \"}},\"major_label_policy\":{\"type\":\"object\",\"name\":\"AllLabels\",\"id\":\"p2731\"}}}],\"center\":[{\"type\":\"object\",\"name\":\"Grid\",\"id\":\"p2732\",\"attributes\":{\"axis\":{\"id\":\"p2728\"}}},{\"type\":\"object\",\"name\":\"Grid\",\"id\":\"p2737\",\"attributes\":{\"dimension\":1,\"axis\":{\"id\":\"p2733\"}}},{\"type\":\"object\",\"name\":\"Legend\",\"id\":\"p3006\",\"attributes\":{\"location\":\"top_left\",\"border_line_color\":\"#333333\",\"click_policy\":\"hide\",\"label_text_font_size\":\"8pt\",\"margin\":0,\"padding\":5,\"spacing\":0,\"items\":[{\"type\":\"object\",\"name\":\"LegendItem\",\"id\":\"p3007\",\"attributes\":{\"label\":{\"type\":\"value\",\"value\":\"Trades (1)\"},\"renderers\":[{\"id\":\"p3003\"}]}},{\"type\":\"object\",\"name\":\"LegendItem\",\"id\":\"p3017\",\"attributes\":{\"label\":{\"type\":\"value\",\"value\":\"\\u03bb\"},\"renderers\":[{\"id\":\"p3014\"}]}}]}}],\"min_border_top\":3,\"min_border_bottom\":6,\"min_border_left\":0,\"min_border_right\":10}},2,0],[{\"type\":\"object\",\"name\":\"Figure\",\"id\":\"p2913\",\"attributes\":{\"width\":null,\"height\":90,\"sizing_mode\":\"stretch_width\",\"x_range\":{\"id\":\"p2716\"},\"y_range\":{\"id\":\"p2915\"},\"x_scale\":{\"type\":\"object\",\"name\":\"LinearScale\",\"id\":\"p2922\"},\"y_scale\":{\"type\":\"object\",\"name\":\"LinearScale\",\"id\":\"p2923\"},\"title\":{\"type\":\"object\",\"name\":\"Title\",\"id\":\"p2920\"},\"outline_line_color\":\"#666666\",\"renderers\":[{\"id\":\"p2952\"}],\"toolbar\":{\"type\":\"object\",\"name\":\"Toolbar\",\"id\":\"p2921\",\"attributes\":{\"tools\":[{\"id\":\"p2934\"},{\"id\":\"p2935\"},{\"id\":\"p2936\"},{\"id\":\"p2942\"},{\"id\":\"p2943\"},{\"id\":\"p2944\"},{\"type\":\"object\",\"name\":\"SaveTool\",\"id\":\"p2945\"},{\"id\":\"p2955\"},{\"id\":\"p3020\"}],\"active_drag\":{\"id\":\"p2934\"},\"active_scroll\":{\"id\":\"p2935\"}}},\"toolbar_location\":null,\"left\":[{\"type\":\"object\",\"name\":\"LinearAxis\",\"id\":\"p2929\",\"attributes\":{\"ticker\":{\"type\":\"object\",\"name\":\"BasicTicker\",\"id\":\"p2930\",\"attributes\":{\"mantissas\":[1,2,5]}},\"formatter\":{\"type\":\"object\",\"name\":\"NumeralTickFormatter\",\"id\":\"p2956\",\"attributes\":{\"format\":\"0 a\"}},\"axis_label\":\"Volume\",\"major_label_policy\":{\"type\":\"object\",\"name\":\"AllLabels\",\"id\":\"p2932\"},\"minor_tick_line_color\":null}}],\"below\":[{\"type\":\"object\",\"name\":\"LinearAxis\",\"id\":\"p2924\",\"attributes\":{\"visible\":true,\"ticker\":{\"type\":\"object\",\"name\":\"BasicTicker\",\"id\":\"p2925\",\"attributes\":{\"mantissas\":[1,2,5]}},\"formatter\":{\"id\":\"p2760\"},\"major_label_policy\":{\"type\":\"object\",\"name\":\"AllLabels\",\"id\":\"p2927\"}}}],\"center\":[{\"type\":\"object\",\"name\":\"Grid\",\"id\":\"p2928\",\"attributes\":{\"axis\":{\"id\":\"p2924\"}}},{\"type\":\"object\",\"name\":\"Grid\",\"id\":\"p2933\",\"attributes\":{\"dimension\":1,\"axis\":{\"id\":\"p2929\"}}}],\"min_border_top\":3,\"min_border_bottom\":6,\"min_border_left\":0,\"min_border_right\":10}},3,0]]}}]}};\n",
              "  const render_items = [{\"docid\":\"bdcead92-1faa-433f-9d92-84658b5bf21c\",\"roots\":{\"p3030\":\"fd49d136-8848-4532-bb25-65fd030a06d4\"},\"root_ids\":[\"p3030\"]}];\n",
              "  root.Bokeh.embed.embed_items_notebook(docs_json, render_items);\n",
              "  }\n",
              "  if (root.Bokeh !== undefined) {\n",
              "    embed_document(root);\n",
              "  } else {\n",
              "    let attempts = 0;\n",
              "    const timer = setInterval(function(root) {\n",
              "      if (root.Bokeh !== undefined) {\n",
              "        clearInterval(timer);\n",
              "        embed_document(root);\n",
              "      } else {\n",
              "        attempts++;\n",
              "        if (attempts > 100) {\n",
              "          clearInterval(timer);\n",
              "          console.log(\"Bokeh: ERROR: Unable to run BokehJS code because BokehJS library is missing\");\n",
              "        }\n",
              "      }\n",
              "    }, 10, root)\n",
              "  }\n",
              "})(window);"
            ],
            "application/vnd.bokehjs_exec.v0+json": ""
          },
          "metadata": {
            "application/vnd.bokehjs_exec.v0+json": {
              "id": "p3030"
            }
          }
        },
        {
          "output_type": "stream",
          "name": "stdout",
          "text": [
            "Start                     2024-01-02 00:00:00\n",
            "End                       2024-06-04 00:00:00\n",
            "Duration                    154 days 00:00:00\n",
            "Exposure Time [%]                   98.130841\n",
            "Equity Final [$]                 11180.399841\n",
            "Equity Peak [$]                  11556.099365\n",
            "Return [%]                          11.803998\n",
            "Buy & Hold Return [%]               12.187562\n",
            "Return (Ann.) [%]                   30.054031\n",
            "Volatility (Ann.) [%]               24.854636\n",
            "Sharpe Ratio                         1.209192\n",
            "Sortino Ratio                        2.289326\n",
            "Calmar Ratio                         3.327525\n",
            "Max. Drawdown [%]                   -9.031947\n",
            "Avg. Drawdown [%]                    -2.50274\n",
            "Max. Drawdown Duration       62 days 00:00:00\n",
            "Avg. Drawdown Duration       14 days 00:00:00\n",
            "# Trades                                    1\n",
            "Win Rate [%]                            100.0\n",
            "Best Trade [%]                       11.26608\n",
            "Worst Trade [%]                      11.26608\n",
            "Avg. Trade [%]                       11.26608\n",
            "Max. Trade Duration         152 days 00:00:00\n",
            "Avg. Trade Duration         152 days 00:00:00\n",
            "Profit Factor                             NaN\n",
            "Expectancy [%]                       11.26608\n",
            "SQN                                       NaN\n",
            "_strategy                     ProphetStrategy\n",
            "_equity_curve                             ...\n",
            "_trades                      Size  EntryBa...\n",
            "dtype: object\n"
          ]
        }
      ]
    }
  ]
}